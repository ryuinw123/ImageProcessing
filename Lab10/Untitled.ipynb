{
 "cells": [
  {
   "cell_type": "code",
   "execution_count": 69,
   "id": "78a92b3f",
   "metadata": {},
   "outputs": [],
   "source": [
    "import numpy as np\n",
    "import cv2\n",
    "from matplotlib import pyplot as plt\n",
    "import keras\n",
    "from keras.preprocessing import image\n",
    "from keras.layers import Dense,GlobalAveragePooling2D\n",
    "from tensorflow.keras.applications.mobilenet import MobileNet\n",
    "from keras.applications.mobilenet import preprocess_input\n",
    "from keras.preprocessing.image import ImageDataGenerator\n",
    "from tensorflow.keras.optimizers import Adam\n",
    "import pandas as pd\n",
    "from sklearn.metrics import confusion_matrix,classification_report\n",
    "import seaborn as sns\n",
    "import matplotlib.pyplot as plt     \n",
    "from pycm import *\n"
   ]
  },
  {
   "cell_type": "code",
   "execution_count": 70,
   "id": "569cb82d",
   "metadata": {},
   "outputs": [],
   "source": [
    "#import splitfolders\n",
    "#splitfolders.ratio('Test', output=\"output\", seed=1337, ratio=(0.5,0.5)) "
   ]
  },
  {
   "cell_type": "code",
   "execution_count": 71,
   "id": "1d405f2c",
   "metadata": {},
   "outputs": [
    {
     "name": "stdout",
     "output_type": "stream",
     "text": [
      "WARNING:tensorflow:`input_shape` is undefined or non-square, or `rows` is not in [128, 160, 192, 224]. Weights for input shape (224, 224) will be loaded as the default.\n"
     ]
    }
   ],
   "source": [
    "#Load base model\n",
    "base_model=MobileNet(weights='imagenet',include_top=False)"
   ]
  },
  {
   "cell_type": "code",
   "execution_count": 72,
   "id": "157254b0",
   "metadata": {},
   "outputs": [],
   "source": [
    "#Add new layers\n",
    "x=base_model.output\n",
    "x=GlobalAveragePooling2D()(x)\n",
    "x=Dense(1024,activation='relu')(x) #we add dense layers so that the model can learn more complex functions and classify for better results.\n",
    "x=Dense(1024,activation='relu')(x) #dense layer 2\n",
    "x=Dense(512,activation='relu')(x) #dense layer 3\n",
    "preds=Dense(3,activation='softmax')(x)"
   ]
  },
  {
   "cell_type": "code",
   "execution_count": 73,
   "id": "56275fb5",
   "metadata": {},
   "outputs": [
    {
     "name": "stdout",
     "output_type": "stream",
     "text": [
      "Model: \"model_5\"\n",
      "_________________________________________________________________\n",
      " Layer (type)                Output Shape              Param #   \n",
      "=================================================================\n",
      " input_6 (InputLayer)        [(None, None, None, 3)]   0         \n",
      "                                                                 \n",
      " conv1 (Conv2D)              (None, None, None, 32)    864       \n",
      "                                                                 \n",
      " conv1_bn (BatchNormalizatio  (None, None, None, 32)   128       \n",
      " n)                                                              \n",
      "                                                                 \n",
      " conv1_relu (ReLU)           (None, None, None, 32)    0         \n",
      "                                                                 \n",
      " conv_dw_1 (DepthwiseConv2D)  (None, None, None, 32)   288       \n",
      "                                                                 \n",
      " conv_dw_1_bn (BatchNormaliz  (None, None, None, 32)   128       \n",
      " ation)                                                          \n",
      "                                                                 \n",
      " conv_dw_1_relu (ReLU)       (None, None, None, 32)    0         \n",
      "                                                                 \n",
      " conv_pw_1 (Conv2D)          (None, None, None, 64)    2048      \n",
      "                                                                 \n",
      " conv_pw_1_bn (BatchNormaliz  (None, None, None, 64)   256       \n",
      " ation)                                                          \n",
      "                                                                 \n",
      " conv_pw_1_relu (ReLU)       (None, None, None, 64)    0         \n",
      "                                                                 \n",
      " conv_pad_2 (ZeroPadding2D)  (None, None, None, 64)    0         \n",
      "                                                                 \n",
      " conv_dw_2 (DepthwiseConv2D)  (None, None, None, 64)   576       \n",
      "                                                                 \n",
      " conv_dw_2_bn (BatchNormaliz  (None, None, None, 64)   256       \n",
      " ation)                                                          \n",
      "                                                                 \n",
      " conv_dw_2_relu (ReLU)       (None, None, None, 64)    0         \n",
      "                                                                 \n",
      " conv_pw_2 (Conv2D)          (None, None, None, 128)   8192      \n",
      "                                                                 \n",
      " conv_pw_2_bn (BatchNormaliz  (None, None, None, 128)  512       \n",
      " ation)                                                          \n",
      "                                                                 \n",
      " conv_pw_2_relu (ReLU)       (None, None, None, 128)   0         \n",
      "                                                                 \n",
      " conv_dw_3 (DepthwiseConv2D)  (None, None, None, 128)  1152      \n",
      "                                                                 \n",
      " conv_dw_3_bn (BatchNormaliz  (None, None, None, 128)  512       \n",
      " ation)                                                          \n",
      "                                                                 \n",
      " conv_dw_3_relu (ReLU)       (None, None, None, 128)   0         \n",
      "                                                                 \n",
      " conv_pw_3 (Conv2D)          (None, None, None, 128)   16384     \n",
      "                                                                 \n",
      " conv_pw_3_bn (BatchNormaliz  (None, None, None, 128)  512       \n",
      " ation)                                                          \n",
      "                                                                 \n",
      " conv_pw_3_relu (ReLU)       (None, None, None, 128)   0         \n",
      "                                                                 \n",
      " conv_pad_4 (ZeroPadding2D)  (None, None, None, 128)   0         \n",
      "                                                                 \n",
      " conv_dw_4 (DepthwiseConv2D)  (None, None, None, 128)  1152      \n",
      "                                                                 \n",
      " conv_dw_4_bn (BatchNormaliz  (None, None, None, 128)  512       \n",
      " ation)                                                          \n",
      "                                                                 \n",
      " conv_dw_4_relu (ReLU)       (None, None, None, 128)   0         \n",
      "                                                                 \n",
      " conv_pw_4 (Conv2D)          (None, None, None, 256)   32768     \n",
      "                                                                 \n",
      " conv_pw_4_bn (BatchNormaliz  (None, None, None, 256)  1024      \n",
      " ation)                                                          \n",
      "                                                                 \n",
      " conv_pw_4_relu (ReLU)       (None, None, None, 256)   0         \n",
      "                                                                 \n",
      " conv_dw_5 (DepthwiseConv2D)  (None, None, None, 256)  2304      \n",
      "                                                                 \n",
      " conv_dw_5_bn (BatchNormaliz  (None, None, None, 256)  1024      \n",
      " ation)                                                          \n",
      "                                                                 \n",
      " conv_dw_5_relu (ReLU)       (None, None, None, 256)   0         \n",
      "                                                                 \n",
      " conv_pw_5 (Conv2D)          (None, None, None, 256)   65536     \n",
      "                                                                 \n",
      " conv_pw_5_bn (BatchNormaliz  (None, None, None, 256)  1024      \n",
      " ation)                                                          \n",
      "                                                                 \n",
      " conv_pw_5_relu (ReLU)       (None, None, None, 256)   0         \n",
      "                                                                 \n",
      " conv_pad_6 (ZeroPadding2D)  (None, None, None, 256)   0         \n",
      "                                                                 \n",
      " conv_dw_6 (DepthwiseConv2D)  (None, None, None, 256)  2304      \n",
      "                                                                 \n",
      " conv_dw_6_bn (BatchNormaliz  (None, None, None, 256)  1024      \n",
      " ation)                                                          \n",
      "                                                                 \n",
      " conv_dw_6_relu (ReLU)       (None, None, None, 256)   0         \n",
      "                                                                 \n",
      " conv_pw_6 (Conv2D)          (None, None, None, 512)   131072    \n",
      "                                                                 \n",
      " conv_pw_6_bn (BatchNormaliz  (None, None, None, 512)  2048      \n",
      " ation)                                                          \n",
      "                                                                 \n",
      " conv_pw_6_relu (ReLU)       (None, None, None, 512)   0         \n",
      "                                                                 \n",
      " conv_dw_7 (DepthwiseConv2D)  (None, None, None, 512)  4608      \n",
      "                                                                 \n",
      " conv_dw_7_bn (BatchNormaliz  (None, None, None, 512)  2048      \n",
      " ation)                                                          \n",
      "                                                                 \n",
      " conv_dw_7_relu (ReLU)       (None, None, None, 512)   0         \n",
      "                                                                 \n",
      " conv_pw_7 (Conv2D)          (None, None, None, 512)   262144    \n",
      "                                                                 \n",
      " conv_pw_7_bn (BatchNormaliz  (None, None, None, 512)  2048      \n",
      " ation)                                                          \n",
      "                                                                 \n",
      " conv_pw_7_relu (ReLU)       (None, None, None, 512)   0         \n",
      "                                                                 \n",
      " conv_dw_8 (DepthwiseConv2D)  (None, None, None, 512)  4608      \n",
      "                                                                 \n",
      " conv_dw_8_bn (BatchNormaliz  (None, None, None, 512)  2048      \n",
      " ation)                                                          \n",
      "                                                                 \n",
      " conv_dw_8_relu (ReLU)       (None, None, None, 512)   0         \n",
      "                                                                 \n",
      " conv_pw_8 (Conv2D)          (None, None, None, 512)   262144    \n"
     ]
    },
    {
     "name": "stdout",
     "output_type": "stream",
     "text": [
      "                                                                 \n",
      " conv_pw_8_bn (BatchNormaliz  (None, None, None, 512)  2048      \n",
      " ation)                                                          \n",
      "                                                                 \n",
      " conv_pw_8_relu (ReLU)       (None, None, None, 512)   0         \n",
      "                                                                 \n",
      " conv_dw_9 (DepthwiseConv2D)  (None, None, None, 512)  4608      \n",
      "                                                                 \n",
      " conv_dw_9_bn (BatchNormaliz  (None, None, None, 512)  2048      \n",
      " ation)                                                          \n",
      "                                                                 \n",
      " conv_dw_9_relu (ReLU)       (None, None, None, 512)   0         \n",
      "                                                                 \n",
      " conv_pw_9 (Conv2D)          (None, None, None, 512)   262144    \n",
      "                                                                 \n",
      " conv_pw_9_bn (BatchNormaliz  (None, None, None, 512)  2048      \n",
      " ation)                                                          \n",
      "                                                                 \n",
      " conv_pw_9_relu (ReLU)       (None, None, None, 512)   0         \n",
      "                                                                 \n",
      " conv_dw_10 (DepthwiseConv2D  (None, None, None, 512)  4608      \n",
      " )                                                               \n",
      "                                                                 \n",
      " conv_dw_10_bn (BatchNormali  (None, None, None, 512)  2048      \n",
      " zation)                                                         \n",
      "                                                                 \n",
      " conv_dw_10_relu (ReLU)      (None, None, None, 512)   0         \n",
      "                                                                 \n",
      " conv_pw_10 (Conv2D)         (None, None, None, 512)   262144    \n",
      "                                                                 \n",
      " conv_pw_10_bn (BatchNormali  (None, None, None, 512)  2048      \n",
      " zation)                                                         \n",
      "                                                                 \n",
      " conv_pw_10_relu (ReLU)      (None, None, None, 512)   0         \n",
      "                                                                 \n",
      " conv_dw_11 (DepthwiseConv2D  (None, None, None, 512)  4608      \n",
      " )                                                               \n",
      "                                                                 \n",
      " conv_dw_11_bn (BatchNormali  (None, None, None, 512)  2048      \n",
      " zation)                                                         \n",
      "                                                                 \n",
      " conv_dw_11_relu (ReLU)      (None, None, None, 512)   0         \n",
      "                                                                 \n",
      " conv_pw_11 (Conv2D)         (None, None, None, 512)   262144    \n",
      "                                                                 \n",
      " conv_pw_11_bn (BatchNormali  (None, None, None, 512)  2048      \n",
      " zation)                                                         \n",
      "                                                                 \n",
      " conv_pw_11_relu (ReLU)      (None, None, None, 512)   0         \n",
      "                                                                 \n",
      " conv_pad_12 (ZeroPadding2D)  (None, None, None, 512)  0         \n",
      "                                                                 \n",
      " conv_dw_12 (DepthwiseConv2D  (None, None, None, 512)  4608      \n",
      " )                                                               \n",
      "                                                                 \n",
      " conv_dw_12_bn (BatchNormali  (None, None, None, 512)  2048      \n",
      " zation)                                                         \n",
      "                                                                 \n",
      " conv_dw_12_relu (ReLU)      (None, None, None, 512)   0         \n",
      "                                                                 \n",
      " conv_pw_12 (Conv2D)         (None, None, None, 1024)  524288    \n",
      "                                                                 \n",
      " conv_pw_12_bn (BatchNormali  (None, None, None, 1024)  4096     \n",
      " zation)                                                         \n",
      "                                                                 \n",
      " conv_pw_12_relu (ReLU)      (None, None, None, 1024)  0         \n",
      "                                                                 \n",
      " conv_dw_13 (DepthwiseConv2D  (None, None, None, 1024)  9216     \n",
      " )                                                               \n",
      "                                                                 \n",
      " conv_dw_13_bn (BatchNormali  (None, None, None, 1024)  4096     \n",
      " zation)                                                         \n",
      "                                                                 \n",
      " conv_dw_13_relu (ReLU)      (None, None, None, 1024)  0         \n",
      "                                                                 \n",
      " conv_pw_13 (Conv2D)         (None, None, None, 1024)  1048576   \n",
      "                                                                 \n",
      " conv_pw_13_bn (BatchNormali  (None, None, None, 1024)  4096     \n",
      " zation)                                                         \n",
      "                                                                 \n",
      " conv_pw_13_relu (ReLU)      (None, None, None, 1024)  0         \n",
      "                                                                 \n",
      " global_average_pooling2d_5   (None, 1024)             0         \n",
      " (GlobalAveragePooling2D)                                        \n",
      "                                                                 \n",
      " dense_20 (Dense)            (None, 1024)              1049600   \n",
      "                                                                 \n",
      " dense_21 (Dense)            (None, 1024)              1049600   \n",
      "                                                                 \n",
      " dense_22 (Dense)            (None, 512)               524800    \n",
      "                                                                 \n",
      " dense_23 (Dense)            (None, 3)                 1539      \n",
      "                                                                 \n",
      "=================================================================\n",
      "Total params: 5,854,403\n",
      "Trainable params: 5,832,515\n",
      "Non-trainable params: 21,888\n",
      "_________________________________________________________________\n"
     ]
    }
   ],
   "source": [
    "model=keras.Model(inputs=base_model.input,outputs=preds)\n",
    "model.summary()"
   ]
  },
  {
   "cell_type": "code",
   "execution_count": 79,
   "id": "a4c0ec76",
   "metadata": {},
   "outputs": [],
   "source": [
    "# Assign Trainable layers and freeze layer -> ลองเปลี่ยน ช่วง layer ในการ trainable True/False 3 ค่า เพื่อดูความแตกต่างของผลลัพธ์ที่ได้\n",
    "for layer in model.layers[:10]:\n",
    "    layer.trainable=False\n",
    "for layer in model.layers[10:]:\n",
    "    layer.trainable=True"
   ]
  },
  {
   "cell_type": "code",
   "execution_count": 80,
   "id": "5ba3c9ff",
   "metadata": {},
   "outputs": [],
   "source": [
    "#Create DataGeneartor Object\n",
    "datagen=ImageDataGenerator( rescale=1./255,\n",
    "rotation_range=30, zoom_range=0.5,\n",
    "width_shift_range=0.2, height_shift_range=0.2,\n",
    "shear_range=0.15, horizontal_flip=True,\n",
    "fill_mode=\"nearest\")"
   ]
  },
  {
   "cell_type": "code",
   "execution_count": 81,
   "id": "a61f40fa",
   "metadata": {},
   "outputs": [
    {
     "name": "stdout",
     "output_type": "stream",
     "text": [
      "Found 97 images belonging to 3 classes.\n"
     ]
    }
   ],
   "source": [
    "# Create Train Image generator\n",
    "train_generator = datagen.flow_from_directory(\n",
    "    directory=\"./train/\",\n",
    "    target_size=(224, 224),\n",
    "    color_mode=\"rgb\",\n",
    "    batch_size=10,\n",
    "    class_mode=\"categorical\",\n",
    "    shuffle=True,\n",
    "    seed=42\n",
    ")"
   ]
  },
  {
   "cell_type": "code",
   "execution_count": 82,
   "id": "75a22d19",
   "metadata": {},
   "outputs": [
    {
     "name": "stdout",
     "output_type": "stream",
     "text": [
      "Found 69 images belonging to 3 classes.\n"
     ]
    }
   ],
   "source": [
    "# Create Validation Image generator\n",
    "val_generator=datagen.flow_from_directory(\"./validate/\", # this is where you specify the path to the main data folder\n",
    "target_size=(224,224), color_mode='rgb',\n",
    "batch_size=7,\n",
    "class_mode=\"categorical\", seed = 42,\n",
    "shuffle=True)"
   ]
  },
  {
   "cell_type": "code",
   "execution_count": 83,
   "id": "1d4ad496",
   "metadata": {},
   "outputs": [
    {
     "data": {
      "image/png": "[encoded data removed]",
      "text/plain": [
       "<Figure size 720x288 with 4 Axes>"
      ]
     },
     "metadata": {
      "needs_background": "light"
     },
     "output_type": "display_data"
    }
   ],
   "source": [
    "batch = train_generator.next()\n",
    "Img_train = (batch[0]*255)\n",
    "plt.figure(figsize=(10,4))\n",
    "for i in range(1,5):\n",
    "    plt.subplot(5,4,i)\n",
    "    plt.imshow(Img_train[i-1].astype(\"uint8\"))\n",
    "    plt.title('RGB')"
   ]
  },
  {
   "cell_type": "code",
   "execution_count": 84,
   "id": "3a023b89",
   "metadata": {},
   "outputs": [
    {
     "data": {
      "image/png": "[encoded data removed]",
      "text/plain": [
       "<Figure size 720x288 with 4 Axes>"
      ]
     },
     "metadata": {
      "needs_background": "light"
     },
     "output_type": "display_data"
    }
   ],
   "source": [
    "batch = val_generator.next()\n",
    "Img_train = (batch[0]*255)\n",
    "plt.figure(figsize=(10,4))\n",
    "for i in range(1,5):\n",
    "    plt.subplot(5,4,i)\n",
    "    plt.imshow(Img_train[i-1].astype(\"uint8\"))\n",
    "    plt.title('RGB')"
   ]
  },
  {
   "cell_type": "code",
   "execution_count": 85,
   "id": "93dca6ee",
   "metadata": {},
   "outputs": [],
   "source": [
    "#Create Optimizer\n",
    "model.compile(optimizer='Adam',loss='categorical_crossentropy',metrics=['accuracy'])"
   ]
  },
  {
   "cell_type": "code",
   "execution_count": 86,
   "id": "d2054465",
   "metadata": {},
   "outputs": [
    {
     "name": "stdout",
     "output_type": "stream",
     "text": [
      "step_size_train = 9 step_size_val = 9\n"
     ]
    }
   ],
   "source": [
    "# Define training Generator Parameter\n",
    "EP = 20 # Number of Epoches\n",
    "step_size_train=train_generator.n//train_generator.batch_size\n",
    "step_size_val = val_generator.n//val_generator.batch_size\n",
    "# check step_size_Train = step_size_val -> if not adjust batch_size to make it equal\n",
    "print(f\"step_size_train = {step_size_train} step_size_val = {step_size_val}\")"
   ]
  },
  {
   "cell_type": "code",
   "execution_count": 87,
   "id": "4296c6e3",
   "metadata": {},
   "outputs": [
    {
     "name": "stdout",
     "output_type": "stream",
     "text": [
      "Epoch 1/20\n"
     ]
    },
    {
     "name": "stderr",
     "output_type": "stream",
     "text": [
      "C:\\Users\\ryu\\AppData\\Local\\Temp\\ipykernel_14848\\2098572540.py:1: UserWarning: `Model.fit_generator` is deprecated and will be removed in a future version. Please use `Model.fit`, which supports generators.\n",
      "  history=model.fit_generator(generator=train_generator,\n"
     ]
    },
    {
     "name": "stdout",
     "output_type": "stream",
     "text": [
      "9/9 [==============================] - 6s 500ms/step - loss: 2.0188 - accuracy: 0.3678 - val_loss: 1.4308 - val_accuracy: 0.4127\n",
      "Epoch 2/20\n",
      "9/9 [==============================] - 4s 475ms/step - loss: 0.6872 - accuracy: 0.7471 - val_loss: 0.6763 - val_accuracy: 0.7460\n",
      "Epoch 3/20\n",
      "9/9 [==============================] - 4s 446ms/step - loss: 0.7325 - accuracy: 0.7011 - val_loss: 1.3109 - val_accuracy: 0.6825\n",
      "Epoch 4/20\n",
      "9/9 [==============================] - 4s 461ms/step - loss: 0.6557 - accuracy: 0.7816 - val_loss: 0.9313 - val_accuracy: 0.7302\n",
      "Epoch 5/20\n",
      "9/9 [==============================] - 4s 443ms/step - loss: 0.5497 - accuracy: 0.7701 - val_loss: 1.2146 - val_accuracy: 0.5873\n",
      "Epoch 6/20\n",
      "9/9 [==============================] - 4s 461ms/step - loss: 0.4357 - accuracy: 0.8276 - val_loss: 0.3643 - val_accuracy: 0.8413\n",
      "Epoch 7/20\n",
      "9/9 [==============================] - 4s 465ms/step - loss: 0.5042 - accuracy: 0.8506 - val_loss: 0.2539 - val_accuracy: 0.9365\n",
      "Epoch 8/20\n",
      "9/9 [==============================] - 4s 469ms/step - loss: 0.4298 - accuracy: 0.8736 - val_loss: 0.7282 - val_accuracy: 0.7302\n",
      "Epoch 9/20\n",
      "9/9 [==============================] - 4s 467ms/step - loss: 0.4753 - accuracy: 0.8736 - val_loss: 1.2258 - val_accuracy: 0.7619\n",
      "Epoch 10/20\n",
      "9/9 [==============================] - 4s 449ms/step - loss: 0.2626 - accuracy: 0.9080 - val_loss: 0.5445 - val_accuracy: 0.8095\n",
      "Epoch 11/20\n",
      "9/9 [==============================] - 4s 449ms/step - loss: 0.4867 - accuracy: 0.8391 - val_loss: 2.5367 - val_accuracy: 0.4286\n",
      "Epoch 12/20\n",
      "9/9 [==============================] - 4s 454ms/step - loss: 0.3105 - accuracy: 0.9080 - val_loss: 3.0576 - val_accuracy: 0.4286\n",
      "Epoch 13/20\n",
      "9/9 [==============================] - 4s 455ms/step - loss: 0.3526 - accuracy: 0.9425 - val_loss: 3.9601 - val_accuracy: 0.4444\n",
      "Epoch 14/20\n",
      "9/9 [==============================] - 4s 459ms/step - loss: 0.2416 - accuracy: 0.9195 - val_loss: 6.0095 - val_accuracy: 0.4286\n",
      "Epoch 15/20\n",
      "9/9 [==============================] - 4s 464ms/step - loss: 0.6331 - accuracy: 0.8276 - val_loss: 2.7747 - val_accuracy: 0.4921\n",
      "Epoch 16/20\n",
      "9/9 [==============================] - 4s 474ms/step - loss: 0.2311 - accuracy: 0.9425 - val_loss: 1.7933 - val_accuracy: 0.5873\n",
      "Epoch 17/20\n",
      "9/9 [==============================] - 4s 487ms/step - loss: 0.2049 - accuracy: 0.8778 - val_loss: 2.5428 - val_accuracy: 0.5556\n",
      "Epoch 18/20\n",
      "9/9 [==============================] - 4s 463ms/step - loss: 0.1185 - accuracy: 0.9655 - val_loss: 10.1180 - val_accuracy: 0.4444\n",
      "Epoch 19/20\n",
      "9/9 [==============================] - 4s 462ms/step - loss: 0.8352 - accuracy: 0.7816 - val_loss: 1.9418 - val_accuracy: 0.4921\n",
      "Epoch 20/20\n",
      "9/9 [==============================] - 4s 444ms/step - loss: 0.4904 - accuracy: 0.8276 - val_loss: 1.3567 - val_accuracy: 0.5873\n"
     ]
    }
   ],
   "source": [
    "history=model.fit_generator(generator=train_generator,\n",
    "    steps_per_epoch=step_size_train,\n",
    "    validation_data = val_generator,\n",
    "    validation_steps = step_size_val,\n",
    "    epochs=EP,\n",
    "    verbose = 1)"
   ]
  },
  {
   "cell_type": "code",
   "execution_count": 91,
   "id": "4547c4eb",
   "metadata": {},
   "outputs": [
    {
     "data": {
      "text/plain": [
       "<matplotlib.legend.Legend at 0x29fc41b0160>"
      ]
     },
     "execution_count": 91,
     "metadata": {},
     "output_type": "execute_result"
    },
    {
     "data": {
      "image/png": "[encoded data removed]",
      "text/plain": [
       "<Figure size 720x288 with 1 Axes>"
      ]
     },
     "metadata": {
      "needs_background": "light"
     },
     "output_type": "display_data"
    },
    {
     "data": {
      "image/png": "[encoded data removed]",
      "text/plain": [
       "<Figure size 720x288 with 1 Axes>"
      ]
     },
     "metadata": {
      "needs_background": "light"
     },
     "output_type": "display_data"
    }
   ],
   "source": [
    "plt.figure(figsize=(10,4))\n",
    "plt.plot(history.history[\"accuracy\"], label=\"Train_acc\")\n",
    "plt.plot(history.history[\"val_accuracy\"], label=\"Validate_acc\")\n",
    "plt.title('Training Accuracy model 20')\n",
    "plt.ylabel('Accuracy')\n",
    "plt.xlabel('epoch')\n",
    "plt.legend(['train_acc', 'validate_acc'], loc='upper left')\n",
    "\n",
    "plt.figure(figsize=(10,4))\n",
    "plt.plot(history.history['loss'], label=\"Train_loss\")\n",
    "plt.plot(history.history['val_loss'], label=\"Validate_loss\")\n",
    "plt.title('Training Accuracy model 20')\n",
    "plt.ylabel('loss')\n",
    "plt.xlabel('epoch')\n",
    "plt.legend(['train_loss', 'validate_loss'], loc='upper left')"
   ]
  },
  {
   "cell_type": "code",
   "execution_count": null,
   "id": "3299d25d",
   "metadata": {},
   "outputs": [],
   "source": [
    "# Initial test generator\n",
    "test_datagen= ImageDataGenerator(rescale=1./255)\n",
    "test_generator = test_datagen.flow_from_directory(\n",
    "\"./test/\",\n",
    "class_mode=\"categorical\",\n",
    "target_size=(224, 224), color_mode=\"rgb\",\n",
    "shuffle=False, seed=42,\n",
    "batch_size=1)"
   ]
  },
  {
   "cell_type": "code",
   "execution_count": null,
   "id": "0d95dbb4",
   "metadata": {},
   "outputs": [],
   "source": [
    "#Get class id for y_real_class\n",
    "y_true = test_generator.classes\n",
    "y_true"
   ]
  },
  {
   "cell_type": "code",
   "execution_count": null,
   "id": "eabc6fc5",
   "metadata": {},
   "outputs": [],
   "source": [
    "plt.figure(figsize=(10,4))\n",
    "for i in range(1,5):\n",
    "    batch = test_generator.next()\n",
    "    Img_train = (batch[0]*255)\n",
    "    plt.subplot(5,4,i)\n",
    "    plt.imshow(Img_train[0].astype(\"uint8\"))\n",
    "    plt.title('RGB')"
   ]
  },
  {
   "cell_type": "code",
   "execution_count": null,
   "id": "8fb2f85e",
   "metadata": {},
   "outputs": [],
   "source": [
    "#predict 1 image at a time for total predict images = len(y_true) # number of real class\n",
    "test_generator.reset()\n",
    "pred_prob = []\n",
    "pred=model.predict_generator(test_generator)\n",
    "for i in range(len(y_true)):\n",
    "    pred_prob.append(np.array(pred[i]))"
   ]
  },
  {
   "cell_type": "code",
   "execution_count": null,
   "id": "d6b49b20",
   "metadata": {},
   "outputs": [],
   "source": [
    "test_generator.class_indices"
   ]
  },
  {
   "cell_type": "code",
   "execution_count": null,
   "id": "1e32a5ea",
   "metadata": {},
   "outputs": [],
   "source": [
    "#Get classID from max prob(pred_prob)\n",
    "df_pred = pd.DataFrame(pred_prob)\n",
    "df_pred"
   ]
  },
  {
   "cell_type": "code",
   "execution_count": null,
   "id": "f0fdb4f2",
   "metadata": {},
   "outputs": [],
   "source": [
    "df_class = df_pred.idxmax(axis=1)\n",
    "df_class"
   ]
  },
  {
   "cell_type": "code",
   "execution_count": null,
   "id": "339bb1f6",
   "metadata": {},
   "outputs": [],
   "source": [
    "def getList(dict):\n",
    "    return dict.keys()"
   ]
  },
  {
   "cell_type": "code",
   "execution_count": null,
   "id": "fe8a8617",
   "metadata": {},
   "outputs": [],
   "source": [
    "ax= plt.subplot()\n",
    "sns.heatmap(confusion_matrix(y_true, df_class), annot=True, fmt='g', ax=ax);  #annot=True to annotate cells, ftm='g' to disable scientific notation\n",
    "\n",
    "# labels, title and ticks\n",
    "ax.set_xlabel('Predicted labels');ax.set_ylabel('True labels'); \n",
    "ax.set_title('Confusion Matrix'); \n",
    "ax.xaxis.set_ticklabels(getList(test_generator.class_indices)); ax.yaxis.set_ticklabels(getList(test_generator.class_indices));"
   ]
  },
  {
   "cell_type": "code",
   "execution_count": null,
   "id": "bad3146c",
   "metadata": {},
   "outputs": [],
   "source": [
    "print(classification_report(y_true, df_class))"
   ]
  },
  {
   "cell_type": "code",
   "execution_count": null,
   "id": "2b332a13",
   "metadata": {},
   "outputs": [],
   "source": [
    "#import splitfolders\n",
    "#splitfolders.ratio('output/Tester', output=\"output\", seed=1337, ratio=(0.5,0.5)) "
   ]
  },
  {
   "cell_type": "code",
   "execution_count": 104,
   "id": "0a2535eb",
   "metadata": {},
   "outputs": [
    {
     "name": "stdout",
     "output_type": "stream",
     "text": [
      "WARNING:tensorflow:`input_shape` is undefined or non-square, or `rows` is not in [128, 160, 192, 224]. Weights for input shape (224, 224) will be loaded as the default.\n"
     ]
    }
   ],
   "source": [
    "#Load base model\n",
    "base_model=MobileNet(weights='imagenet',include_top=False)"
   ]
  },
  {
   "cell_type": "code",
   "execution_count": 105,
   "id": "321e949b",
   "metadata": {},
   "outputs": [],
   "source": [
    "#Add new layers\n",
    "x=base_model.output\n",
    "x=GlobalAveragePooling2D()(x)\n",
    "x=Dense(1024,activation='relu')(x) #we add dense layers so that the model can learn more complex functions and classify for better results.\n",
    "x=Dense(1024,activation='relu')(x) #dense layer 2\n",
    "x=Dense(512,activation='relu')(x) #dense layer 3\n",
    "preds=Dense(400,activation='softmax')(x)"
   ]
  },
  {
   "cell_type": "code",
   "execution_count": 106,
   "id": "2a6646f8",
   "metadata": {},
   "outputs": [
    {
     "name": "stdout",
     "output_type": "stream",
     "text": [
      "Model: \"model_7\"\n",
      "_________________________________________________________________\n",
      " Layer (type)                Output Shape              Param #   \n",
      "=================================================================\n",
      " input_8 (InputLayer)        [(None, None, None, 3)]   0         \n",
      "                                                                 \n",
      " conv1 (Conv2D)              (None, None, None, 32)    864       \n",
      "                                                                 \n",
      " conv1_bn (BatchNormalizatio  (None, None, None, 32)   128       \n",
      " n)                                                              \n",
      "                                                                 \n",
      " conv1_relu (ReLU)           (None, None, None, 32)    0         \n",
      "                                                                 \n",
      " conv_dw_1 (DepthwiseConv2D)  (None, None, None, 32)   288       \n",
      "                                                                 \n",
      " conv_dw_1_bn (BatchNormaliz  (None, None, None, 32)   128       \n",
      " ation)                                                          \n",
      "                                                                 \n",
      " conv_dw_1_relu (ReLU)       (None, None, None, 32)    0         \n",
      "                                                                 \n",
      " conv_pw_1 (Conv2D)          (None, None, None, 64)    2048      \n",
      "                                                                 \n",
      " conv_pw_1_bn (BatchNormaliz  (None, None, None, 64)   256       \n",
      " ation)                                                          \n",
      "                                                                 \n",
      " conv_pw_1_relu (ReLU)       (None, None, None, 64)    0         \n",
      "                                                                 \n",
      " conv_pad_2 (ZeroPadding2D)  (None, None, None, 64)    0         \n",
      "                                                                 \n",
      " conv_dw_2 (DepthwiseConv2D)  (None, None, None, 64)   576       \n",
      "                                                                 \n",
      " conv_dw_2_bn (BatchNormaliz  (None, None, None, 64)   256       \n",
      " ation)                                                          \n",
      "                                                                 \n",
      " conv_dw_2_relu (ReLU)       (None, None, None, 64)    0         \n",
      "                                                                 \n",
      " conv_pw_2 (Conv2D)          (None, None, None, 128)   8192      \n",
      "                                                                 \n",
      " conv_pw_2_bn (BatchNormaliz  (None, None, None, 128)  512       \n",
      " ation)                                                          \n",
      "                                                                 \n",
      " conv_pw_2_relu (ReLU)       (None, None, None, 128)   0         \n",
      "                                                                 \n",
      " conv_dw_3 (DepthwiseConv2D)  (None, None, None, 128)  1152      \n",
      "                                                                 \n",
      " conv_dw_3_bn (BatchNormaliz  (None, None, None, 128)  512       \n",
      " ation)                                                          \n",
      "                                                                 \n",
      " conv_dw_3_relu (ReLU)       (None, None, None, 128)   0         \n",
      "                                                                 \n",
      " conv_pw_3 (Conv2D)          (None, None, None, 128)   16384     \n",
      "                                                                 \n",
      " conv_pw_3_bn (BatchNormaliz  (None, None, None, 128)  512       \n",
      " ation)                                                          \n",
      "                                                                 \n",
      " conv_pw_3_relu (ReLU)       (None, None, None, 128)   0         \n",
      "                                                                 \n",
      " conv_pad_4 (ZeroPadding2D)  (None, None, None, 128)   0         \n",
      "                                                                 \n",
      " conv_dw_4 (DepthwiseConv2D)  (None, None, None, 128)  1152      \n",
      "                                                                 \n",
      " conv_dw_4_bn (BatchNormaliz  (None, None, None, 128)  512       \n",
      " ation)                                                          \n",
      "                                                                 \n",
      " conv_dw_4_relu (ReLU)       (None, None, None, 128)   0         \n",
      "                                                                 \n",
      " conv_pw_4 (Conv2D)          (None, None, None, 256)   32768     \n",
      "                                                                 \n",
      " conv_pw_4_bn (BatchNormaliz  (None, None, None, 256)  1024      \n",
      " ation)                                                          \n",
      "                                                                 \n",
      " conv_pw_4_relu (ReLU)       (None, None, None, 256)   0         \n",
      "                                                                 \n",
      " conv_dw_5 (DepthwiseConv2D)  (None, None, None, 256)  2304      \n",
      "                                                                 \n",
      " conv_dw_5_bn (BatchNormaliz  (None, None, None, 256)  1024      \n",
      " ation)                                                          \n",
      "                                                                 \n",
      " conv_dw_5_relu (ReLU)       (None, None, None, 256)   0         \n",
      "                                                                 \n",
      " conv_pw_5 (Conv2D)          (None, None, None, 256)   65536     \n",
      "                                                                 \n",
      " conv_pw_5_bn (BatchNormaliz  (None, None, None, 256)  1024      \n",
      " ation)                                                          \n",
      "                                                                 \n",
      " conv_pw_5_relu (ReLU)       (None, None, None, 256)   0         \n",
      "                                                                 \n",
      " conv_pad_6 (ZeroPadding2D)  (None, None, None, 256)   0         \n",
      "                                                                 \n",
      " conv_dw_6 (DepthwiseConv2D)  (None, None, None, 256)  2304      \n",
      "                                                                 \n",
      " conv_dw_6_bn (BatchNormaliz  (None, None, None, 256)  1024      \n",
      " ation)                                                          \n",
      "                                                                 \n",
      " conv_dw_6_relu (ReLU)       (None, None, None, 256)   0         \n",
      "                                                                 \n",
      " conv_pw_6 (Conv2D)          (None, None, None, 512)   131072    \n",
      "                                                                 \n",
      " conv_pw_6_bn (BatchNormaliz  (None, None, None, 512)  2048      \n",
      " ation)                                                          \n",
      "                                                                 \n",
      " conv_pw_6_relu (ReLU)       (None, None, None, 512)   0         \n",
      "                                                                 \n",
      " conv_dw_7 (DepthwiseConv2D)  (None, None, None, 512)  4608      \n",
      "                                                                 \n",
      " conv_dw_7_bn (BatchNormaliz  (None, None, None, 512)  2048      \n",
      " ation)                                                          \n",
      "                                                                 \n",
      " conv_dw_7_relu (ReLU)       (None, None, None, 512)   0         \n",
      "                                                                 \n",
      " conv_pw_7 (Conv2D)          (None, None, None, 512)   262144    \n",
      "                                                                 \n",
      " conv_pw_7_bn (BatchNormaliz  (None, None, None, 512)  2048      \n",
      " ation)                                                          \n",
      "                                                                 \n",
      " conv_pw_7_relu (ReLU)       (None, None, None, 512)   0         \n",
      "                                                                 \n",
      " conv_dw_8 (DepthwiseConv2D)  (None, None, None, 512)  4608      \n",
      "                                                                 \n",
      " conv_dw_8_bn (BatchNormaliz  (None, None, None, 512)  2048      \n",
      " ation)                                                          \n",
      "                                                                 \n",
      " conv_dw_8_relu (ReLU)       (None, None, None, 512)   0         \n",
      "                                                                 \n",
      " conv_pw_8 (Conv2D)          (None, None, None, 512)   262144    \n"
     ]
    },
    {
     "name": "stdout",
     "output_type": "stream",
     "text": [
      "                                                                 \n",
      " conv_pw_8_bn (BatchNormaliz  (None, None, None, 512)  2048      \n",
      " ation)                                                          \n",
      "                                                                 \n",
      " conv_pw_8_relu (ReLU)       (None, None, None, 512)   0         \n",
      "                                                                 \n",
      " conv_dw_9 (DepthwiseConv2D)  (None, None, None, 512)  4608      \n",
      "                                                                 \n",
      " conv_dw_9_bn (BatchNormaliz  (None, None, None, 512)  2048      \n",
      " ation)                                                          \n",
      "                                                                 \n",
      " conv_dw_9_relu (ReLU)       (None, None, None, 512)   0         \n",
      "                                                                 \n",
      " conv_pw_9 (Conv2D)          (None, None, None, 512)   262144    \n",
      "                                                                 \n",
      " conv_pw_9_bn (BatchNormaliz  (None, None, None, 512)  2048      \n",
      " ation)                                                          \n",
      "                                                                 \n",
      " conv_pw_9_relu (ReLU)       (None, None, None, 512)   0         \n",
      "                                                                 \n",
      " conv_dw_10 (DepthwiseConv2D  (None, None, None, 512)  4608      \n",
      " )                                                               \n",
      "                                                                 \n",
      " conv_dw_10_bn (BatchNormali  (None, None, None, 512)  2048      \n",
      " zation)                                                         \n",
      "                                                                 \n",
      " conv_dw_10_relu (ReLU)      (None, None, None, 512)   0         \n",
      "                                                                 \n",
      " conv_pw_10 (Conv2D)         (None, None, None, 512)   262144    \n",
      "                                                                 \n",
      " conv_pw_10_bn (BatchNormali  (None, None, None, 512)  2048      \n",
      " zation)                                                         \n",
      "                                                                 \n",
      " conv_pw_10_relu (ReLU)      (None, None, None, 512)   0         \n",
      "                                                                 \n",
      " conv_dw_11 (DepthwiseConv2D  (None, None, None, 512)  4608      \n",
      " )                                                               \n",
      "                                                                 \n",
      " conv_dw_11_bn (BatchNormali  (None, None, None, 512)  2048      \n",
      " zation)                                                         \n",
      "                                                                 \n",
      " conv_dw_11_relu (ReLU)      (None, None, None, 512)   0         \n",
      "                                                                 \n",
      " conv_pw_11 (Conv2D)         (None, None, None, 512)   262144    \n",
      "                                                                 \n",
      " conv_pw_11_bn (BatchNormali  (None, None, None, 512)  2048      \n",
      " zation)                                                         \n",
      "                                                                 \n",
      " conv_pw_11_relu (ReLU)      (None, None, None, 512)   0         \n",
      "                                                                 \n",
      " conv_pad_12 (ZeroPadding2D)  (None, None, None, 512)  0         \n",
      "                                                                 \n",
      " conv_dw_12 (DepthwiseConv2D  (None, None, None, 512)  4608      \n",
      " )                                                               \n",
      "                                                                 \n",
      " conv_dw_12_bn (BatchNormali  (None, None, None, 512)  2048      \n",
      " zation)                                                         \n",
      "                                                                 \n",
      " conv_dw_12_relu (ReLU)      (None, None, None, 512)   0         \n",
      "                                                                 \n",
      " conv_pw_12 (Conv2D)         (None, None, None, 1024)  524288    \n",
      "                                                                 \n",
      " conv_pw_12_bn (BatchNormali  (None, None, None, 1024)  4096     \n",
      " zation)                                                         \n",
      "                                                                 \n",
      " conv_pw_12_relu (ReLU)      (None, None, None, 1024)  0         \n",
      "                                                                 \n",
      " conv_dw_13 (DepthwiseConv2D  (None, None, None, 1024)  9216     \n",
      " )                                                               \n",
      "                                                                 \n",
      " conv_dw_13_bn (BatchNormali  (None, None, None, 1024)  4096     \n",
      " zation)                                                         \n",
      "                                                                 \n",
      " conv_dw_13_relu (ReLU)      (None, None, None, 1024)  0         \n",
      "                                                                 \n",
      " conv_pw_13 (Conv2D)         (None, None, None, 1024)  1048576   \n",
      "                                                                 \n",
      " conv_pw_13_bn (BatchNormali  (None, None, None, 1024)  4096     \n",
      " zation)                                                         \n",
      "                                                                 \n",
      " conv_pw_13_relu (ReLU)      (None, None, None, 1024)  0         \n",
      "                                                                 \n",
      " global_average_pooling2d_7   (None, 1024)             0         \n",
      " (GlobalAveragePooling2D)                                        \n",
      "                                                                 \n",
      " dense_28 (Dense)            (None, 1024)              1049600   \n",
      "                                                                 \n",
      " dense_29 (Dense)            (None, 1024)              1049600   \n",
      "                                                                 \n",
      " dense_30 (Dense)            (None, 512)               524800    \n",
      "                                                                 \n",
      " dense_31 (Dense)            (None, 400)               205200    \n",
      "                                                                 \n",
      "=================================================================\n",
      "Total params: 6,058,064\n",
      "Trainable params: 6,036,176\n",
      "Non-trainable params: 21,888\n",
      "_________________________________________________________________\n"
     ]
    }
   ],
   "source": [
    "model=keras.Model(inputs=base_model.input,outputs=preds)\n",
    "model.summary()"
   ]
  },
  {
   "cell_type": "code",
   "execution_count": 107,
   "id": "10e2ded6",
   "metadata": {},
   "outputs": [],
   "source": [
    "# Assign Trainable layers and freeze layer -> ลองเปลี่ยน ช่วง layer ในการ trainable True/False 3 ค่า เพื่อดูความแตกต่างของผลลัพธ์ที่ได้\n",
    "#for layer in model.layers[:20]:\n",
    "#    layer.trainable=False\n",
    "#for layer in model.layers[20:]:\n",
    "#    layer.trainable=True"
   ]
  },
  {
   "cell_type": "code",
   "execution_count": 108,
   "id": "b5b660ad",
   "metadata": {},
   "outputs": [],
   "source": [
    "#Create DataGeneartor Object\n",
    "datagen=ImageDataGenerator( rescale=1./255,\n",
    "rotation_range=30, zoom_range=0.5,\n",
    "width_shift_range=0.2, height_shift_range=0.2,\n",
    "shear_range=0.15, horizontal_flip=True,\n",
    "fill_mode=\"nearest\")"
   ]
  },
  {
   "cell_type": "code",
   "execution_count": 109,
   "id": "fbe13d9f",
   "metadata": {
    "scrolled": true
   },
   "outputs": [
    {
     "name": "stdout",
     "output_type": "stream",
     "text": [
      "Found 58388 images belonging to 400 classes.\n"
     ]
    }
   ],
   "source": [
    "# Create Train Image generator\n",
    "train_generator = datagen.flow_from_directory(\n",
    "    directory=\"./Bird/train/\",\n",
    "    target_size=(100, 100),\n",
    "    color_mode=\"rgb\",\n",
    "    batch_size=131,\n",
    "    class_mode=\"categorical\",\n",
    "    shuffle=True,\n",
    "    seed=42\n",
    ")"
   ]
  },
  {
   "cell_type": "code",
   "execution_count": 110,
   "id": "1500180d",
   "metadata": {},
   "outputs": [
    {
     "name": "stdout",
     "output_type": "stream",
     "text": [
      "Found 2000 images belonging to 400 classes.\n"
     ]
    }
   ],
   "source": [
    "# Create Validation Image generator\n",
    "val_generator=datagen.flow_from_directory(\"./Bird/valid/\", # this is where you specify the path to the main data folder\n",
    "target_size=(100,100), color_mode='rgb',\n",
    "batch_size=22,\n",
    "class_mode=\"categorical\", seed = 42,\n",
    "shuffle=True)"
   ]
  },
  {
   "cell_type": "code",
   "execution_count": 111,
   "id": "3477b181",
   "metadata": {},
   "outputs": [
    {
     "data": {
      "image/png": "[encoded data removed]",
      "text/plain": [
       "<Figure size 720x288 with 14 Axes>"
      ]
     },
     "metadata": {
      "needs_background": "light"
     },
     "output_type": "display_data"
    }
   ],
   "source": [
    "batch = train_generator.next()\n",
    "Img_train = (batch[0]*255)\n",
    "plt.figure(figsize=(10,4))\n",
    "for i in range(1,15):\n",
    "    plt.subplot(5,4,i)\n",
    "    plt.imshow(Img_train[i-1].astype(\"uint8\"))\n",
    "    plt.title('RGB')"
   ]
  },
  {
   "cell_type": "code",
   "execution_count": 112,
   "id": "d498cc2a",
   "metadata": {},
   "outputs": [
    {
     "data": {
      "image/png": "[encoded data removed]",
      "text/plain": [
       "<Figure size 720x288 with 11 Axes>"
      ]
     },
     "metadata": {
      "needs_background": "light"
     },
     "output_type": "display_data"
    }
   ],
   "source": [
    "batch = val_generator.next()\n",
    "Img_train = (batch[0]*255)\n",
    "plt.figure(figsize=(10,4))\n",
    "for i in range(1,12):\n",
    "    plt.subplot(5,4,i)\n",
    "    plt.imshow(Img_train[i-1].astype(\"uint8\"))\n",
    "    plt.title('RGB')"
   ]
  },
  {
   "cell_type": "code",
   "execution_count": 113,
   "id": "2b658947",
   "metadata": {},
   "outputs": [],
   "source": [
    "#Create Optimizer\n",
    "model.compile(optimizer='Adam',loss='categorical_crossentropy',metrics=['accuracy'])"
   ]
  },
  {
   "cell_type": "code",
   "execution_count": 114,
   "id": "01f6eca7",
   "metadata": {},
   "outputs": [
    {
     "name": "stdout",
     "output_type": "stream",
     "text": [
      "step_size_train = 445 step_size_val = 90\n"
     ]
    }
   ],
   "source": [
    "# Define training Generator Parameter\n",
    "EP = 5 # Number of Epoches\n",
    "step_size_train=train_generator.n//train_generator.batch_size\n",
    "step_size_val = val_generator.n//val_generator.batch_size\n",
    "# check step_size_Train = step_size_val -> if not adjust batch_size to make it equal\n",
    "print(f\"step_size_train = {step_size_train} step_size_val = {step_size_val}\")"
   ]
  },
  {
   "cell_type": "code",
   "execution_count": null,
   "id": "89242d6b",
   "metadata": {},
   "outputs": [
    {
     "name": "stderr",
     "output_type": "stream",
     "text": [
      "C:\\Users\\ryu\\AppData\\Local\\Temp\\ipykernel_14848\\2098572540.py:1: UserWarning: `Model.fit_generator` is deprecated and will be removed in a future version. Please use `Model.fit`, which supports generators.\n",
      "  history=model.fit_generator(generator=train_generator,\n"
     ]
    },
    {
     "name": "stdout",
     "output_type": "stream",
     "text": [
      "Epoch 1/5\n",
      "357/445 [=======================>......] - ETA: 2:10 - loss: 4.1463 - accuracy: 0.1488"
     ]
    }
   ],
   "source": [
    "history=model.fit_generator(generator=train_generator,\n",
    "    steps_per_epoch=step_size_train,\n",
    "    validation_data = val_generator,\n",
    "    validation_steps = step_size_val,\n",
    "    epochs=EP,\n",
    "    verbose = 1)"
   ]
  },
  {
   "cell_type": "code",
   "execution_count": 284,
   "id": "3b5d49af",
   "metadata": {},
   "outputs": [
    {
     "data": {
      "text/plain": [
       "<matplotlib.legend.Legend at 0x2880f5b8bb0>"
      ]
     },
     "execution_count": 284,
     "metadata": {},
     "output_type": "execute_result"
    },
    {
     "data": {
      "image/png": "[encoded data removed]",
      "text/plain": [
       "<Figure size 432x288 with 1 Axes>"
      ]
     },
     "metadata": {
      "needs_background": "light"
     },
     "output_type": "display_data"
    }
   ],
   "source": [
    "# Performance Visualization\n",
    "# View Accuracy (Training, Validation)\n",
    "plt.plot(history.history[\"accuracy\"], label=\"Train_acc\")\n",
    "plt.plot(history.history[\"val_accuracy\"], label=\"Validate_acc\")\n",
    "plt.title('Training Accuracy')\n",
    "plt.ylabel('Accuracy')\n",
    "plt.xlabel('epoch')\n",
    "plt.legend(['train_acc', 'validate_acc'], loc='upper left')"
   ]
  },
  {
   "cell_type": "code",
   "execution_count": 285,
   "id": "2b67c798",
   "metadata": {},
   "outputs": [
    {
     "data": {
      "text/plain": [
       "<matplotlib.legend.Legend at 0x28810e39810>"
      ]
     },
     "execution_count": 285,
     "metadata": {},
     "output_type": "execute_result"
    },
    {
     "data": {
      "image/png": "[encoded data removed]",
      "text/plain": [
       "<Figure size 432x288 with 1 Axes>"
      ]
     },
     "metadata": {
      "needs_background": "light"
     },
     "output_type": "display_data"
    }
   ],
   "source": [
    "# View Loss (Training, Validation)\n",
    "plt.plot(history.history['loss'], label=\"Train_loss\")\n",
    "plt.plot(history.history['val_loss'], label=\"Validate_loss\")\n",
    "plt.title('Training Accuracy')\n",
    "plt.ylabel('loss')\n",
    "plt.xlabel('epoch')\n",
    "plt.legend(['train_loss', 'validate_loss'], loc='upper left')"
   ]
  },
  {
   "cell_type": "code",
   "execution_count": 286,
   "id": "d9fadca7",
   "metadata": {},
   "outputs": [
    {
     "name": "stdout",
     "output_type": "stream",
     "text": [
      "Found 11335 images belonging to 131 classes.\n"
     ]
    }
   ],
   "source": [
    "# Initial test generator\n",
    "test_datagen= ImageDataGenerator(rescale=1./255)\n",
    "test_generator = test_datagen.flow_from_directory(\n",
    "\"./output/test/\",\n",
    "class_mode=\"categorical\",\n",
    "target_size=(100, 100), color_mode=\"rgb\",\n",
    "shuffle=False, seed=42,\n",
    "batch_size=5)"
   ]
  },
  {
   "cell_type": "code",
   "execution_count": 287,
   "id": "d05d3d79",
   "metadata": {},
   "outputs": [
    {
     "data": {
      "text/plain": [
       "array([  0,   0,   0, ..., 130, 130, 130])"
      ]
     },
     "execution_count": 287,
     "metadata": {},
     "output_type": "execute_result"
    }
   ],
   "source": [
    "#Get class id for y_real_class\n",
    "y_true = test_generator.classes\n",
    "y_true"
   ]
  },
  {
   "cell_type": "code",
   "execution_count": 288,
   "id": "19a8df5d",
   "metadata": {},
   "outputs": [
    {
     "data": {
      "image/png": "[encoded data removed]",
      "text/plain": [
       "<Figure size 720x288 with 4 Axes>"
      ]
     },
     "metadata": {
      "needs_background": "light"
     },
     "output_type": "display_data"
    }
   ],
   "source": [
    "plt.figure(figsize=(10,4))\n",
    "for i in range(1,5):\n",
    "    batch = test_generator.next()\n",
    "    Img_train = (batch[0]*255)\n",
    "    plt.subplot(5,4,i)\n",
    "    plt.imshow(Img_train[0].astype(\"uint8\"))\n",
    "    plt.title('RGB')"
   ]
  },
  {
   "cell_type": "code",
   "execution_count": 289,
   "id": "3bb71a17",
   "metadata": {},
   "outputs": [
    {
     "name": "stderr",
     "output_type": "stream",
     "text": [
      "C:\\Users\\ryu\\AppData\\Local\\Temp\\ipykernel_24040\\2625963933.py:4: UserWarning: `Model.predict_generator` is deprecated and will be removed in a future version. Please use `Model.predict`, which supports generators.\n",
      "  pred=model.predict_generator(test_generator)\n"
     ]
    }
   ],
   "source": [
    "#predict 1 image at a time for total predict images = len(y_true) # number of real class\n",
    "test_generator.reset()\n",
    "pred_prob = []\n",
    "pred=model.predict_generator(test_generator)\n",
    "for i in range(len(y_true)):\n",
    "    pred_prob.append(np.array(pred[i]))"
   ]
  },
  {
   "cell_type": "code",
   "execution_count": 290,
   "id": "ec994084",
   "metadata": {},
   "outputs": [
    {
     "data": {
      "text/html": [
       "<div>\n",
       "<style scoped>\n",
       "    .dataframe tbody tr th:only-of-type {\n",
       "        vertical-align: middle;\n",
       "    }\n",
       "\n",
       "    .dataframe tbody tr th {\n",
       "        vertical-align: top;\n",
       "    }\n",
       "\n",
       "    .dataframe thead th {\n",
       "        text-align: right;\n",
       "    }\n",
       "</style>\n",
       "<table border=\"1\" class=\"dataframe\">\n",
       "  <thead>\n",
       "    <tr style=\"text-align: right;\">\n",
       "      <th></th>\n",
       "      <th>0</th>\n",
       "      <th>1</th>\n",
       "      <th>2</th>\n",
       "      <th>3</th>\n",
       "      <th>4</th>\n",
       "      <th>5</th>\n",
       "      <th>6</th>\n",
       "      <th>7</th>\n",
       "      <th>8</th>\n",
       "      <th>9</th>\n",
       "      <th>...</th>\n",
       "      <th>121</th>\n",
       "      <th>122</th>\n",
       "      <th>123</th>\n",
       "      <th>124</th>\n",
       "      <th>125</th>\n",
       "      <th>126</th>\n",
       "      <th>127</th>\n",
       "      <th>128</th>\n",
       "      <th>129</th>\n",
       "      <th>130</th>\n",
       "    </tr>\n",
       "  </thead>\n",
       "  <tbody>\n",
       "    <tr>\n",
       "      <th>0</th>\n",
       "      <td>7.976856e-01</td>\n",
       "      <td>1.172817e-03</td>\n",
       "      <td>1.363808e-06</td>\n",
       "      <td>4.168535e-06</td>\n",
       "      <td>5.995755e-06</td>\n",
       "      <td>2.073678e-05</td>\n",
       "      <td>2.129244e-04</td>\n",
       "      <td>3.331153e-04</td>\n",
       "      <td>3.517579e-03</td>\n",
       "      <td>2.079505e-03</td>\n",
       "      <td>...</td>\n",
       "      <td>1.317254e-05</td>\n",
       "      <td>2.595449e-05</td>\n",
       "      <td>1.816514e-05</td>\n",
       "      <td>1.105541e-05</td>\n",
       "      <td>2.669392e-04</td>\n",
       "      <td>1.109021e-06</td>\n",
       "      <td>8.710293e-07</td>\n",
       "      <td>1.391111e-07</td>\n",
       "      <td>1.107066e-06</td>\n",
       "      <td>2.229421e-07</td>\n",
       "    </tr>\n",
       "    <tr>\n",
       "      <th>1</th>\n",
       "      <td>7.816460e-01</td>\n",
       "      <td>6.498016e-03</td>\n",
       "      <td>2.678604e-06</td>\n",
       "      <td>1.227355e-05</td>\n",
       "      <td>2.068826e-05</td>\n",
       "      <td>6.616431e-05</td>\n",
       "      <td>5.762339e-04</td>\n",
       "      <td>9.616399e-04</td>\n",
       "      <td>4.704883e-03</td>\n",
       "      <td>7.030068e-03</td>\n",
       "      <td>...</td>\n",
       "      <td>2.065991e-05</td>\n",
       "      <td>7.578298e-05</td>\n",
       "      <td>4.996058e-05</td>\n",
       "      <td>2.112934e-05</td>\n",
       "      <td>8.226741e-04</td>\n",
       "      <td>2.225727e-06</td>\n",
       "      <td>2.353412e-06</td>\n",
       "      <td>5.591069e-07</td>\n",
       "      <td>3.762312e-06</td>\n",
       "      <td>8.227883e-07</td>\n",
       "    </tr>\n",
       "    <tr>\n",
       "      <th>2</th>\n",
       "      <td>6.321375e-01</td>\n",
       "      <td>2.167461e-02</td>\n",
       "      <td>6.077029e-06</td>\n",
       "      <td>3.377156e-05</td>\n",
       "      <td>5.847057e-05</td>\n",
       "      <td>2.150216e-04</td>\n",
       "      <td>1.567177e-03</td>\n",
       "      <td>1.782141e-03</td>\n",
       "      <td>7.079340e-03</td>\n",
       "      <td>1.743655e-02</td>\n",
       "      <td>...</td>\n",
       "      <td>5.736683e-05</td>\n",
       "      <td>2.321007e-04</td>\n",
       "      <td>1.310369e-04</td>\n",
       "      <td>5.055098e-05</td>\n",
       "      <td>2.128635e-03</td>\n",
       "      <td>7.172430e-06</td>\n",
       "      <td>8.511690e-06</td>\n",
       "      <td>1.986874e-06</td>\n",
       "      <td>8.973630e-06</td>\n",
       "      <td>2.992253e-06</td>\n",
       "    </tr>\n",
       "    <tr>\n",
       "      <th>3</th>\n",
       "      <td>6.137831e-01</td>\n",
       "      <td>8.387268e-03</td>\n",
       "      <td>2.900317e-06</td>\n",
       "      <td>1.545571e-05</td>\n",
       "      <td>2.249713e-05</td>\n",
       "      <td>7.941663e-05</td>\n",
       "      <td>6.283086e-04</td>\n",
       "      <td>1.009350e-03</td>\n",
       "      <td>4.485217e-03</td>\n",
       "      <td>8.248201e-03</td>\n",
       "      <td>...</td>\n",
       "      <td>3.133504e-05</td>\n",
       "      <td>9.788592e-05</td>\n",
       "      <td>6.862116e-05</td>\n",
       "      <td>2.997399e-05</td>\n",
       "      <td>1.025620e-03</td>\n",
       "      <td>2.990192e-06</td>\n",
       "      <td>4.057282e-06</td>\n",
       "      <td>6.910590e-07</td>\n",
       "      <td>3.906612e-06</td>\n",
       "      <td>1.143823e-06</td>\n",
       "    </tr>\n",
       "    <tr>\n",
       "      <th>4</th>\n",
       "      <td>8.188034e-01</td>\n",
       "      <td>1.187349e-02</td>\n",
       "      <td>1.327876e-06</td>\n",
       "      <td>9.467550e-06</td>\n",
       "      <td>1.755211e-05</td>\n",
       "      <td>6.425205e-05</td>\n",
       "      <td>8.501448e-04</td>\n",
       "      <td>9.678960e-04</td>\n",
       "      <td>4.387314e-03</td>\n",
       "      <td>6.807959e-03</td>\n",
       "      <td>...</td>\n",
       "      <td>1.624481e-05</td>\n",
       "      <td>7.021874e-05</td>\n",
       "      <td>4.782865e-05</td>\n",
       "      <td>1.529525e-05</td>\n",
       "      <td>1.030908e-03</td>\n",
       "      <td>1.756534e-06</td>\n",
       "      <td>1.666001e-06</td>\n",
       "      <td>5.040696e-07</td>\n",
       "      <td>2.857168e-06</td>\n",
       "      <td>5.538487e-07</td>\n",
       "    </tr>\n",
       "    <tr>\n",
       "      <th>...</th>\n",
       "      <td>...</td>\n",
       "      <td>...</td>\n",
       "      <td>...</td>\n",
       "      <td>...</td>\n",
       "      <td>...</td>\n",
       "      <td>...</td>\n",
       "      <td>...</td>\n",
       "      <td>...</td>\n",
       "      <td>...</td>\n",
       "      <td>...</td>\n",
       "      <td>...</td>\n",
       "      <td>...</td>\n",
       "      <td>...</td>\n",
       "      <td>...</td>\n",
       "      <td>...</td>\n",
       "      <td>...</td>\n",
       "      <td>...</td>\n",
       "      <td>...</td>\n",
       "      <td>...</td>\n",
       "      <td>...</td>\n",
       "      <td>...</td>\n",
       "    </tr>\n",
       "    <tr>\n",
       "      <th>11330</th>\n",
       "      <td>3.709789e-13</td>\n",
       "      <td>2.172137e-14</td>\n",
       "      <td>2.386855e-10</td>\n",
       "      <td>5.710046e-12</td>\n",
       "      <td>4.867443e-12</td>\n",
       "      <td>3.232490e-10</td>\n",
       "      <td>4.952396e-13</td>\n",
       "      <td>1.788453e-17</td>\n",
       "      <td>5.123418e-14</td>\n",
       "      <td>7.784773e-15</td>\n",
       "      <td>...</td>\n",
       "      <td>3.781497e-15</td>\n",
       "      <td>9.430461e-13</td>\n",
       "      <td>6.748429e-14</td>\n",
       "      <td>1.107883e-15</td>\n",
       "      <td>3.511909e-13</td>\n",
       "      <td>3.823565e-14</td>\n",
       "      <td>1.682514e-10</td>\n",
       "      <td>1.030091e-08</td>\n",
       "      <td>2.636541e-13</td>\n",
       "      <td>9.999999e-01</td>\n",
       "    </tr>\n",
       "    <tr>\n",
       "      <th>11331</th>\n",
       "      <td>6.213356e-13</td>\n",
       "      <td>3.993099e-14</td>\n",
       "      <td>3.279132e-10</td>\n",
       "      <td>9.519672e-12</td>\n",
       "      <td>7.561682e-12</td>\n",
       "      <td>4.591289e-10</td>\n",
       "      <td>8.538453e-13</td>\n",
       "      <td>3.648730e-17</td>\n",
       "      <td>8.730817e-14</td>\n",
       "      <td>1.331138e-14</td>\n",
       "      <td>...</td>\n",
       "      <td>6.876435e-15</td>\n",
       "      <td>1.518699e-12</td>\n",
       "      <td>1.170445e-13</td>\n",
       "      <td>2.194381e-15</td>\n",
       "      <td>5.511704e-13</td>\n",
       "      <td>6.719363e-14</td>\n",
       "      <td>2.792369e-10</td>\n",
       "      <td>1.370785e-08</td>\n",
       "      <td>4.210972e-13</td>\n",
       "      <td>9.999999e-01</td>\n",
       "    </tr>\n",
       "    <tr>\n",
       "      <th>11332</th>\n",
       "      <td>1.955750e-13</td>\n",
       "      <td>1.111045e-14</td>\n",
       "      <td>1.562686e-10</td>\n",
       "      <td>3.627360e-12</td>\n",
       "      <td>2.891476e-12</td>\n",
       "      <td>1.959920e-10</td>\n",
       "      <td>2.710095e-13</td>\n",
       "      <td>8.443545e-18</td>\n",
       "      <td>2.925629e-14</td>\n",
       "      <td>4.146798e-15</td>\n",
       "      <td>...</td>\n",
       "      <td>2.119796e-15</td>\n",
       "      <td>5.503133e-13</td>\n",
       "      <td>3.740111e-14</td>\n",
       "      <td>6.005515e-16</td>\n",
       "      <td>1.740186e-13</td>\n",
       "      <td>2.037112e-14</td>\n",
       "      <td>1.133973e-10</td>\n",
       "      <td>6.478762e-09</td>\n",
       "      <td>1.549337e-13</td>\n",
       "      <td>1.000000e+00</td>\n",
       "    </tr>\n",
       "    <tr>\n",
       "      <th>11333</th>\n",
       "      <td>7.383002e-14</td>\n",
       "      <td>3.773097e-15</td>\n",
       "      <td>8.143745e-11</td>\n",
       "      <td>1.633595e-12</td>\n",
       "      <td>1.386364e-12</td>\n",
       "      <td>1.075885e-10</td>\n",
       "      <td>1.055195e-13</td>\n",
       "      <td>2.314394e-18</td>\n",
       "      <td>1.132639e-14</td>\n",
       "      <td>1.568983e-15</td>\n",
       "      <td>...</td>\n",
       "      <td>7.494026e-16</td>\n",
       "      <td>2.221975e-13</td>\n",
       "      <td>1.461612e-14</td>\n",
       "      <td>1.872955e-16</td>\n",
       "      <td>7.173643e-14</td>\n",
       "      <td>7.514756e-15</td>\n",
       "      <td>5.159584e-11</td>\n",
       "      <td>3.596386e-09</td>\n",
       "      <td>6.764680e-14</td>\n",
       "      <td>1.000000e+00</td>\n",
       "    </tr>\n",
       "    <tr>\n",
       "      <th>11334</th>\n",
       "      <td>6.470472e-14</td>\n",
       "      <td>3.282328e-15</td>\n",
       "      <td>7.674879e-11</td>\n",
       "      <td>1.632614e-12</td>\n",
       "      <td>1.443079e-12</td>\n",
       "      <td>1.106182e-10</td>\n",
       "      <td>9.650762e-14</td>\n",
       "      <td>2.026644e-18</td>\n",
       "      <td>1.059051e-14</td>\n",
       "      <td>1.539447e-15</td>\n",
       "      <td>...</td>\n",
       "      <td>6.857807e-16</td>\n",
       "      <td>2.013407e-13</td>\n",
       "      <td>1.392328e-14</td>\n",
       "      <td>1.638182e-16</td>\n",
       "      <td>6.756492e-14</td>\n",
       "      <td>6.947415e-15</td>\n",
       "      <td>4.891215e-11</td>\n",
       "      <td>3.590238e-09</td>\n",
       "      <td>7.064151e-14</td>\n",
       "      <td>1.000000e+00</td>\n",
       "    </tr>\n",
       "  </tbody>\n",
       "</table>\n",
       "<p>11335 rows × 131 columns</p>\n",
       "</div>"
      ],
      "text/plain": [
       "                0             1             2             3             4    \\\n",
       "0      7.976856e-01  1.172817e-03  1.363808e-06  4.168535e-06  5.995755e-06   \n",
       "1      7.816460e-01  6.498016e-03  2.678604e-06  1.227355e-05  2.068826e-05   \n",
       "2      6.321375e-01  2.167461e-02  6.077029e-06  3.377156e-05  5.847057e-05   \n",
       "3      6.137831e-01  8.387268e-03  2.900317e-06  1.545571e-05  2.249713e-05   \n",
       "4      8.188034e-01  1.187349e-02  1.327876e-06  9.467550e-06  1.755211e-05   \n",
       "...             ...           ...           ...           ...           ...   \n",
       "11330  3.709789e-13  2.172137e-14  2.386855e-10  5.710046e-12  4.867443e-12   \n",
       "11331  6.213356e-13  3.993099e-14  3.279132e-10  9.519672e-12  7.561682e-12   \n",
       "11332  1.955750e-13  1.111045e-14  1.562686e-10  3.627360e-12  2.891476e-12   \n",
       "11333  7.383002e-14  3.773097e-15  8.143745e-11  1.633595e-12  1.386364e-12   \n",
       "11334  6.470472e-14  3.282328e-15  7.674879e-11  1.632614e-12  1.443079e-12   \n",
       "\n",
       "                5             6             7             8             9    \\\n",
       "0      2.073678e-05  2.129244e-04  3.331153e-04  3.517579e-03  2.079505e-03   \n",
       "1      6.616431e-05  5.762339e-04  9.616399e-04  4.704883e-03  7.030068e-03   \n",
       "2      2.150216e-04  1.567177e-03  1.782141e-03  7.079340e-03  1.743655e-02   \n",
       "3      7.941663e-05  6.283086e-04  1.009350e-03  4.485217e-03  8.248201e-03   \n",
       "4      6.425205e-05  8.501448e-04  9.678960e-04  4.387314e-03  6.807959e-03   \n",
       "...             ...           ...           ...           ...           ...   \n",
       "11330  3.232490e-10  4.952396e-13  1.788453e-17  5.123418e-14  7.784773e-15   \n",
       "11331  4.591289e-10  8.538453e-13  3.648730e-17  8.730817e-14  1.331138e-14   \n",
       "11332  1.959920e-10  2.710095e-13  8.443545e-18  2.925629e-14  4.146798e-15   \n",
       "11333  1.075885e-10  1.055195e-13  2.314394e-18  1.132639e-14  1.568983e-15   \n",
       "11334  1.106182e-10  9.650762e-14  2.026644e-18  1.059051e-14  1.539447e-15   \n",
       "\n",
       "       ...           121           122           123           124  \\\n",
       "0      ...  1.317254e-05  2.595449e-05  1.816514e-05  1.105541e-05   \n",
       "1      ...  2.065991e-05  7.578298e-05  4.996058e-05  2.112934e-05   \n",
       "2      ...  5.736683e-05  2.321007e-04  1.310369e-04  5.055098e-05   \n",
       "3      ...  3.133504e-05  9.788592e-05  6.862116e-05  2.997399e-05   \n",
       "4      ...  1.624481e-05  7.021874e-05  4.782865e-05  1.529525e-05   \n",
       "...    ...           ...           ...           ...           ...   \n",
       "11330  ...  3.781497e-15  9.430461e-13  6.748429e-14  1.107883e-15   \n",
       "11331  ...  6.876435e-15  1.518699e-12  1.170445e-13  2.194381e-15   \n",
       "11332  ...  2.119796e-15  5.503133e-13  3.740111e-14  6.005515e-16   \n",
       "11333  ...  7.494026e-16  2.221975e-13  1.461612e-14  1.872955e-16   \n",
       "11334  ...  6.857807e-16  2.013407e-13  1.392328e-14  1.638182e-16   \n",
       "\n",
       "                125           126           127           128           129  \\\n",
       "0      2.669392e-04  1.109021e-06  8.710293e-07  1.391111e-07  1.107066e-06   \n",
       "1      8.226741e-04  2.225727e-06  2.353412e-06  5.591069e-07  3.762312e-06   \n",
       "2      2.128635e-03  7.172430e-06  8.511690e-06  1.986874e-06  8.973630e-06   \n",
       "3      1.025620e-03  2.990192e-06  4.057282e-06  6.910590e-07  3.906612e-06   \n",
       "4      1.030908e-03  1.756534e-06  1.666001e-06  5.040696e-07  2.857168e-06   \n",
       "...             ...           ...           ...           ...           ...   \n",
       "11330  3.511909e-13  3.823565e-14  1.682514e-10  1.030091e-08  2.636541e-13   \n",
       "11331  5.511704e-13  6.719363e-14  2.792369e-10  1.370785e-08  4.210972e-13   \n",
       "11332  1.740186e-13  2.037112e-14  1.133973e-10  6.478762e-09  1.549337e-13   \n",
       "11333  7.173643e-14  7.514756e-15  5.159584e-11  3.596386e-09  6.764680e-14   \n",
       "11334  6.756492e-14  6.947415e-15  4.891215e-11  3.590238e-09  7.064151e-14   \n",
       "\n",
       "                130  \n",
       "0      2.229421e-07  \n",
       "1      8.227883e-07  \n",
       "2      2.992253e-06  \n",
       "3      1.143823e-06  \n",
       "4      5.538487e-07  \n",
       "...             ...  \n",
       "11330  9.999999e-01  \n",
       "11331  9.999999e-01  \n",
       "11332  1.000000e+00  \n",
       "11333  1.000000e+00  \n",
       "11334  1.000000e+00  \n",
       "\n",
       "[11335 rows x 131 columns]"
      ]
     },
     "execution_count": 290,
     "metadata": {},
     "output_type": "execute_result"
    }
   ],
   "source": [
    "#Get classID from max prob(pred_prob)\n",
    "df_pred = pd.DataFrame(pred_prob)\n",
    "df_pred"
   ]
  },
  {
   "cell_type": "code",
   "execution_count": 291,
   "id": "7b534770",
   "metadata": {},
   "outputs": [
    {
     "data": {
      "text/plain": [
       "0          0\n",
       "1          0\n",
       "2          0\n",
       "3          0\n",
       "4          0\n",
       "        ... \n",
       "11330    130\n",
       "11331    130\n",
       "11332    130\n",
       "11333    130\n",
       "11334    130\n",
       "Length: 11335, dtype: int64"
      ]
     },
     "execution_count": 291,
     "metadata": {},
     "output_type": "execute_result"
    }
   ],
   "source": [
    "df_class = df_pred.idxmax(axis=1)\n",
    "df_class"
   ]
  },
  {
   "cell_type": "code",
   "execution_count": 305,
   "id": "00159a41",
   "metadata": {},
   "outputs": [
    {
     "name": "stdout",
     "output_type": "stream",
     "text": [
      "{'Apple Braeburn': 0, 'Apple Crimson Snow': 1, 'Apple Golden 1': 2, 'Apple Golden 2': 3, 'Apple Golden 3': 4, 'Apple Granny Smith': 5, 'Apple Pink Lady': 6, 'Apple Red 1': 7, 'Apple Red 2': 8, 'Apple Red 3': 9, 'Apple Red Delicious': 10, 'Apple Red Yellow 1': 11, 'Apple Red Yellow 2': 12, 'Apricot': 13, 'Avocado': 14, 'Avocado ripe': 15, 'Banana': 16, 'Banana Lady Finger': 17, 'Banana Red': 18, 'Beetroot': 19, 'Blueberry': 20, 'Cactus fruit': 21, 'Cantaloupe 1': 22, 'Cantaloupe 2': 23, 'Carambula': 24, 'Cauliflower': 25, 'Cherry 1': 26, 'Cherry 2': 27, 'Cherry Rainier': 28, 'Cherry Wax Black': 29, 'Cherry Wax Red': 30, 'Cherry Wax Yellow': 31, 'Chestnut': 32, 'Clementine': 33, 'Cocos': 34, 'Corn': 35, 'Corn Husk': 36, 'Cucumber Ripe': 37, 'Cucumber Ripe 2': 38, 'Dates': 39, 'Eggplant': 40, 'Fig': 41, 'Ginger Root': 42, 'Granadilla': 43, 'Grape Blue': 44, 'Grape Pink': 45, 'Grape White': 46, 'Grape White 2': 47, 'Grape White 3': 48, 'Grape White 4': 49, 'Grapefruit Pink': 50, 'Grapefruit White': 51, 'Guava': 52, 'Hazelnut': 53, 'Huckleberry': 54, 'Kaki': 55, 'Kiwi': 56, 'Kohlrabi': 57, 'Kumquats': 58, 'Lemon': 59, 'Lemon Meyer': 60, 'Limes': 61, 'Lychee': 62, 'Mandarine': 63, 'Mango': 64, 'Mango Red': 65, 'Mangostan': 66, 'Maracuja': 67, 'Melon Piel de Sapo': 68, 'Mulberry': 69, 'Nectarine': 70, 'Nectarine Flat': 71, 'Nut Forest': 72, 'Nut Pecan': 73, 'Onion Red': 74, 'Onion Red Peeled': 75, 'Onion White': 76, 'Orange': 77, 'Papaya': 78, 'Passion Fruit': 79, 'Peach': 80, 'Peach 2': 81, 'Peach Flat': 82, 'Pear': 83, 'Pear 2': 84, 'Pear Abate': 85, 'Pear Forelle': 86, 'Pear Kaiser': 87, 'Pear Monster': 88, 'Pear Red': 89, 'Pear Stone': 90, 'Pear Williams': 91, 'Pepino': 92, 'Pepper Green': 93, 'Pepper Orange': 94, 'Pepper Red': 95, 'Pepper Yellow': 96, 'Physalis': 97, 'Physalis with Husk': 98, 'Pineapple': 99, 'Pineapple Mini': 100, 'Pitahaya Red': 101, 'Plum': 102, 'Plum 2': 103, 'Plum 3': 104, 'Pomegranate': 105, 'Pomelo Sweetie': 106, 'Potato Red': 107, 'Potato Red Washed': 108, 'Potato Sweet': 109, 'Potato White': 110, 'Quince': 111, 'Rambutan': 112, 'Raspberry': 113, 'Redcurrant': 114, 'Salak': 115, 'Strawberry': 116, 'Strawberry Wedge': 117, 'Tamarillo': 118, 'Tangelo': 119, 'Tomato 1': 120, 'Tomato 2': 121, 'Tomato 3': 122, 'Tomato 4': 123, 'Tomato Cherry Red': 124, 'Tomato Heart': 125, 'Tomato Maroon': 126, 'Tomato Yellow': 127, 'Tomato not Ripened': 128, 'Walnut': 129, 'Watermelon': 130}\n"
     ]
    }
   ],
   "source": [
    "print(test_generator.class_indices)\n",
    "new_dict = dict([(value, key) for key, value in test_generator.class_indices.items()])"
   ]
  },
  {
   "cell_type": "code",
   "execution_count": 297,
   "id": "2c100a36",
   "metadata": {
    "scrolled": true
   },
   "outputs": [
    {
     "name": "stdout",
     "output_type": "stream",
     "text": [
      "131\n"
     ]
    }
   ],
   "source": [
    "print(len(getList(test_generator.class_indices)))"
   ]
  },
  {
   "cell_type": "code",
   "execution_count": 301,
   "id": "01f9ecf6",
   "metadata": {},
   "outputs": [],
   "source": [
    "cm3 = ConfusionMatrix(y_true, list(df_class))"
   ]
  },
  {
   "cell_type": "code",
   "execution_count": 314,
   "id": "ee36e785",
   "metadata": {},
   "outputs": [
    {
     "data": {
      "text/plain": [
       "{'Status': True,\n",
       " 'Message': 'C:\\\\Users\\\\ryu\\\\Documents\\\\GitHub\\\\ImageProcessing\\\\Lab10\\\\newCsv.html'}"
      ]
     },
     "execution_count": 314,
     "metadata": {},
     "output_type": "execute_result"
    }
   ],
   "source": [
    "cm3.relabel(mapping=new_dict)\n",
    "cm3.save_html(\"newCsv\")"
   ]
  },
  {
   "cell_type": "code",
   "execution_count": 308,
   "id": "ec333938",
   "metadata": {},
   "outputs": [
    {
     "name": "stdout",
     "output_type": "stream",
     "text": [
      "              precision    recall  f1-score   support\n",
      "\n",
      "           0       0.78      0.35      0.49        82\n",
      "           1       0.54      1.00      0.70        74\n",
      "           2       1.00      0.53      0.69        80\n",
      "           3       1.00      0.96      0.98        82\n",
      "           4       1.00      0.41      0.58        80\n",
      "           5       1.00      0.62      0.77        82\n",
      "           6       0.93      0.83      0.88        76\n",
      "           7       1.00      0.32      0.48        82\n",
      "           8       0.00      0.00      0.00        82\n",
      "           9       0.63      0.93      0.75        72\n",
      "          10       0.90      1.00      0.95        83\n",
      "          11       1.00      0.15      0.26        82\n",
      "          12       0.50      1.00      0.67       109\n",
      "          13       1.00      0.61      0.76        82\n",
      "          14       1.00      1.00      1.00        71\n",
      "          15       0.94      1.00      0.97        83\n",
      "          16       1.00      0.82      0.90        83\n",
      "          17       1.00      0.99      0.99        76\n",
      "          18       1.00      0.99      0.99        83\n",
      "          19       0.86      0.88      0.87        75\n",
      "          20       1.00      1.00      1.00        77\n",
      "          21       1.00      0.80      0.89        83\n",
      "          22       0.98      1.00      0.99        82\n",
      "          23       1.00      0.77      0.87        82\n",
      "          24       1.00      1.00      1.00        83\n",
      "          25       1.00      0.15      0.27       117\n",
      "          26       1.00      0.51      0.68        82\n",
      "          27       1.00      0.78      0.88       123\n",
      "          28       1.00      1.00      1.00       123\n",
      "          29       1.00      1.00      1.00        82\n",
      "          30       1.00      1.00      1.00        82\n",
      "          31       0.52      1.00      0.69        82\n",
      "          32       0.98      0.71      0.82        76\n",
      "          33       0.98      1.00      0.99        83\n",
      "          34       0.45      0.98      0.62        83\n",
      "          35       0.98      0.81      0.89        75\n",
      "          36       1.00      0.18      0.31        77\n",
      "          37       0.42      1.00      0.59        65\n",
      "          38       1.00      0.19      0.32        78\n",
      "          39       1.00      1.00      1.00        83\n",
      "          40       1.00      0.76      0.86        78\n",
      "          41       0.98      0.98      0.98       117\n",
      "          42       0.00      0.00      0.00        49\n",
      "          43       1.00      0.99      0.99        83\n",
      "          44       1.00      0.80      0.89       164\n",
      "          45       1.00      1.00      1.00        82\n",
      "          46       0.82      1.00      0.90        83\n",
      "          47       1.00      1.00      1.00        83\n",
      "          48       1.00      1.00      1.00        82\n",
      "          49       1.00      1.00      1.00        79\n",
      "          50       0.90      1.00      0.95        83\n",
      "          51       0.68      0.90      0.77        82\n",
      "          52       1.00      0.82      0.90        83\n",
      "          53       1.00      1.00      1.00        78\n",
      "          54       0.99      1.00      0.99        83\n",
      "          55       1.00      1.00      1.00        83\n",
      "          56       0.52      1.00      0.68        78\n",
      "          57       1.00      1.00      1.00        78\n",
      "          58       1.00      0.95      0.98        83\n",
      "          59       1.00      0.50      0.67        82\n",
      "          60       1.00      1.00      1.00        83\n",
      "          61       1.00      0.98      0.99        83\n",
      "          62       0.78      1.00      0.87        83\n",
      "          63       0.89      0.98      0.93        83\n",
      "          64       1.00      0.57      0.72        83\n",
      "          65       0.34      1.00      0.51        71\n",
      "          66       0.88      1.00      0.94        51\n",
      "          67       1.00      1.00      1.00        83\n",
      "          68       1.00      0.42      0.59       123\n",
      "          69       1.00      0.94      0.97        82\n",
      "          70       0.26      1.00      0.42        82\n",
      "          71       0.47      1.00      0.64        80\n",
      "          72       1.00      0.69      0.82       109\n",
      "          73       0.99      0.90      0.94        89\n",
      "          74       0.39      1.00      0.56        75\n",
      "          75       0.99      1.00      0.99        77\n",
      "          76       0.72      0.60      0.66        73\n",
      "          77       1.00      0.93      0.96        80\n",
      "          78       0.94      0.39      0.55        82\n",
      "          79       1.00      0.10      0.18        83\n",
      "          80       1.00      0.50      0.67        82\n",
      "          81       0.99      1.00      1.00       123\n",
      "          82       0.77      1.00      0.87        82\n",
      "          83       0.86      0.15      0.25        82\n",
      "          84       0.96      0.19      0.32       116\n",
      "          85       1.00      0.95      0.98        83\n",
      "          86       0.37      1.00      0.54       117\n",
      "          87       0.81      1.00      0.89        51\n",
      "          88       1.00      0.48      0.65        83\n",
      "          89       0.55      1.00      0.71       111\n",
      "          90       0.94      1.00      0.97       118\n",
      "          91       1.00      1.00      1.00        83\n",
      "          92       1.00      0.70      0.82        83\n",
      "          93       0.97      1.00      0.99        74\n",
      "          94       1.00      0.59      0.74       117\n",
      "          95       0.87      0.98      0.92       111\n",
      "          96       0.73      1.00      0.84       111\n",
      "          97       0.73      1.00      0.84        82\n",
      "          98       1.00      0.88      0.94        82\n",
      "          99       1.00      1.00      1.00        83\n",
      "         100       1.00      1.00      1.00        81\n",
      "         101       1.00      1.00      1.00        83\n",
      "         102       0.66      1.00      0.79        75\n",
      "         103       0.99      1.00      0.99        71\n",
      "         104       0.82      1.00      0.90       152\n",
      "         105       1.00      0.68      0.81        82\n",
      "         106       0.88      1.00      0.94        76\n",
      "         107       0.89      0.79      0.84        75\n",
      "         108       0.75      0.60      0.67        75\n",
      "         109       0.95      0.49      0.65        75\n",
      "         110       0.83      0.13      0.23        75\n",
      "         111       1.00      1.00      1.00        83\n",
      "         112       1.00      1.00      1.00        82\n",
      "         113       1.00      1.00      1.00        83\n",
      "         114       1.00      0.79      0.88        82\n",
      "         115       1.00      0.90      0.95        81\n",
      "         116       0.77      1.00      0.87        82\n",
      "         117       1.00      0.95      0.97       123\n",
      "         118       1.00      1.00      1.00        83\n",
      "         119       1.00      1.00      1.00        83\n",
      "         120       0.44      1.00      0.61       123\n",
      "         121       0.87      0.30      0.45       112\n",
      "         122       1.00      0.80      0.89       123\n",
      "         123       1.00      0.35      0.52        80\n",
      "         124       1.00      0.01      0.02        82\n",
      "         125       1.00      1.00      1.00       114\n",
      "         126       1.00      1.00      1.00        63\n",
      "         127       1.00      0.88      0.94        76\n",
      "         128       1.00      0.99      0.99        79\n",
      "         129       0.77      1.00      0.87       124\n",
      "         130       0.61      1.00      0.76        78\n",
      "\n",
      "    accuracy                           0.81     11335\n",
      "   macro avg       0.88      0.81      0.80     11335\n",
      "weighted avg       0.89      0.81      0.80     11335\n",
      "\n"
     ]
    },
    {
     "name": "stderr",
     "output_type": "stream",
     "text": [
      "C:\\Users\\ryu\\AppData\\Local\\Programs\\Python\\Python310\\lib\\site-packages\\sklearn\\metrics\\_classification.py:1318: UndefinedMetricWarning: Precision and F-score are ill-defined and being set to 0.0 in labels with no predicted samples. Use `zero_division` parameter to control this behavior.\n",
      "  _warn_prf(average, modifier, msg_start, len(result))\n",
      "C:\\Users\\ryu\\AppData\\Local\\Programs\\Python\\Python310\\lib\\site-packages\\sklearn\\metrics\\_classification.py:1318: UndefinedMetricWarning: Precision and F-score are ill-defined and being set to 0.0 in labels with no predicted samples. Use `zero_division` parameter to control this behavior.\n",
      "  _warn_prf(average, modifier, msg_start, len(result))\n",
      "C:\\Users\\ryu\\AppData\\Local\\Programs\\Python\\Python310\\lib\\site-packages\\sklearn\\metrics\\_classification.py:1318: UndefinedMetricWarning: Precision and F-score are ill-defined and being set to 0.0 in labels with no predicted samples. Use `zero_division` parameter to control this behavior.\n",
      "  _warn_prf(average, modifier, msg_start, len(result))\n"
     ]
    }
   ],
   "source": [
    "print(classification_report(y_true, df_class))"
   ]
  },
  {
   "cell_type": "code",
   "execution_count": null,
   "id": "f83fa7f9",
   "metadata": {},
   "outputs": [],
   "source": []
  }
 ],
 "metadata": {
  "kernelspec": {
   "display_name": "Python 3 (ipykernel)",
   "language": "python",
   "name": "python3"
  },
  "language_info": {
   "codemirror_mode": {
    "name": "ipython",
    "version": 3
   },
   "file_extension": ".py",
   "mimetype": "text/x-python",
   "name": "python",
   "nbconvert_exporter": "python",
   "pygments_lexer": "ipython3",
   "version": "3.10.2"
  }
 },
 "nbformat": 4,
 "nbformat_minor": 5
}
