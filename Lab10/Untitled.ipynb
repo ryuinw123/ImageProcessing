{
 "cells": [
  {
   "cell_type": "code",
   "execution_count": 35,
   "id": "78a92b3f",
   "metadata": {},
   "outputs": [],
   "source": [
    "import numpy as np\n",
    "import cv2\n",
    "from matplotlib import pyplot as plt\n",
    "import keras\n",
    "from keras.preprocessing import image\n",
    "from keras.layers import Dense,GlobalAveragePooling2D\n",
    "from tensorflow.keras.applications.mobilenet import MobileNet\n",
    "from keras.applications.mobilenet import preprocess_input\n",
    "from keras.preprocessing.image import ImageDataGenerator\n",
    "from tensorflow.keras.optimizers import Adam\n",
    "import pandas as pd\n",
    "from sklearn.metrics import confusion_matrix,classification_report"
   ]
  },
  {
   "cell_type": "code",
   "execution_count": 36,
   "id": "569cb82d",
   "metadata": {},
   "outputs": [],
   "source": [
    "#import splitfolders\n",
    "#splitfolders.ratio('Test', output=\"output\", seed=1337, ratio=(0.5,0.5)) "
   ]
  },
  {
   "cell_type": "code",
   "execution_count": 37,
   "id": "1d405f2c",
   "metadata": {},
   "outputs": [
    {
     "name": "stdout",
     "output_type": "stream",
     "text": [
      "WARNING:tensorflow:`input_shape` is undefined or non-square, or `rows` is not in [128, 160, 192, 224]. Weights for input shape (224, 224) will be loaded as the default.\n"
     ]
    }
   ],
   "source": [
    "#Load base model\n",
    "base_model=MobileNet(weights='imagenet',include_top=False)"
   ]
  },
  {
   "cell_type": "code",
   "execution_count": 38,
   "id": "157254b0",
   "metadata": {},
   "outputs": [],
   "source": [
    "#Add new layers\n",
    "x=base_model.output\n",
    "x=GlobalAveragePooling2D()(x)\n",
    "x=Dense(1024,activation='relu')(x) #we add dense layers so that the model can learn more complex functions and classify for better results.\n",
    "x=Dense(1024,activation='relu')(x) #dense layer 2\n",
    "x=Dense(512,activation='relu')(x) #dense layer 3\n",
    "preds=Dense(3,activation='softmax')(x)"
   ]
  },
  {
   "cell_type": "code",
   "execution_count": 39,
   "id": "56275fb5",
   "metadata": {},
   "outputs": [
    {
     "name": "stdout",
     "output_type": "stream",
     "text": [
      "Model: \"model_2\"\n",
      "_________________________________________________________________\n",
      " Layer (type)                Output Shape              Param #   \n",
      "=================================================================\n",
      " input_3 (InputLayer)        [(None, None, None, 3)]   0         \n",
      "                                                                 \n",
      " conv1 (Conv2D)              (None, None, None, 32)    864       \n",
      "                                                                 \n",
      " conv1_bn (BatchNormalizatio  (None, None, None, 32)   128       \n",
      " n)                                                              \n",
      "                                                                 \n",
      " conv1_relu (ReLU)           (None, None, None, 32)    0         \n",
      "                                                                 \n",
      " conv_dw_1 (DepthwiseConv2D)  (None, None, None, 32)   288       \n",
      "                                                                 \n",
      " conv_dw_1_bn (BatchNormaliz  (None, None, None, 32)   128       \n",
      " ation)                                                          \n",
      "                                                                 \n",
      " conv_dw_1_relu (ReLU)       (None, None, None, 32)    0         \n",
      "                                                                 \n",
      " conv_pw_1 (Conv2D)          (None, None, None, 64)    2048      \n",
      "                                                                 \n",
      " conv_pw_1_bn (BatchNormaliz  (None, None, None, 64)   256       \n",
      " ation)                                                          \n",
      "                                                                 \n",
      " conv_pw_1_relu (ReLU)       (None, None, None, 64)    0         \n",
      "                                                                 \n",
      " conv_pad_2 (ZeroPadding2D)  (None, None, None, 64)    0         \n",
      "                                                                 \n",
      " conv_dw_2 (DepthwiseConv2D)  (None, None, None, 64)   576       \n",
      "                                                                 \n",
      " conv_dw_2_bn (BatchNormaliz  (None, None, None, 64)   256       \n",
      " ation)                                                          \n",
      "                                                                 \n",
      " conv_dw_2_relu (ReLU)       (None, None, None, 64)    0         \n",
      "                                                                 \n",
      " conv_pw_2 (Conv2D)          (None, None, None, 128)   8192      \n",
      "                                                                 \n",
      " conv_pw_2_bn (BatchNormaliz  (None, None, None, 128)  512       \n",
      " ation)                                                          \n",
      "                                                                 \n",
      " conv_pw_2_relu (ReLU)       (None, None, None, 128)   0         \n",
      "                                                                 \n",
      " conv_dw_3 (DepthwiseConv2D)  (None, None, None, 128)  1152      \n",
      "                                                                 \n",
      " conv_dw_3_bn (BatchNormaliz  (None, None, None, 128)  512       \n",
      " ation)                                                          \n",
      "                                                                 \n",
      " conv_dw_3_relu (ReLU)       (None, None, None, 128)   0         \n",
      "                                                                 \n",
      " conv_pw_3 (Conv2D)          (None, None, None, 128)   16384     \n",
      "                                                                 \n",
      " conv_pw_3_bn (BatchNormaliz  (None, None, None, 128)  512       \n",
      " ation)                                                          \n",
      "                                                                 \n",
      " conv_pw_3_relu (ReLU)       (None, None, None, 128)   0         \n",
      "                                                                 \n",
      " conv_pad_4 (ZeroPadding2D)  (None, None, None, 128)   0         \n",
      "                                                                 \n",
      " conv_dw_4 (DepthwiseConv2D)  (None, None, None, 128)  1152      \n",
      "                                                                 \n",
      " conv_dw_4_bn (BatchNormaliz  (None, None, None, 128)  512       \n",
      " ation)                                                          \n",
      "                                                                 \n",
      " conv_dw_4_relu (ReLU)       (None, None, None, 128)   0         \n",
      "                                                                 \n",
      " conv_pw_4 (Conv2D)          (None, None, None, 256)   32768     \n",
      "                                                                 \n",
      " conv_pw_4_bn (BatchNormaliz  (None, None, None, 256)  1024      \n",
      " ation)                                                          \n",
      "                                                                 \n",
      " conv_pw_4_relu (ReLU)       (None, None, None, 256)   0         \n",
      "                                                                 \n",
      " conv_dw_5 (DepthwiseConv2D)  (None, None, None, 256)  2304      \n",
      "                                                                 \n",
      " conv_dw_5_bn (BatchNormaliz  (None, None, None, 256)  1024      \n",
      " ation)                                                          \n",
      "                                                                 \n",
      " conv_dw_5_relu (ReLU)       (None, None, None, 256)   0         \n",
      "                                                                 \n",
      " conv_pw_5 (Conv2D)          (None, None, None, 256)   65536     \n",
      "                                                                 \n",
      " conv_pw_5_bn (BatchNormaliz  (None, None, None, 256)  1024      \n",
      " ation)                                                          \n",
      "                                                                 \n",
      " conv_pw_5_relu (ReLU)       (None, None, None, 256)   0         \n",
      "                                                                 \n",
      " conv_pad_6 (ZeroPadding2D)  (None, None, None, 256)   0         \n",
      "                                                                 \n",
      " conv_dw_6 (DepthwiseConv2D)  (None, None, None, 256)  2304      \n",
      "                                                                 \n",
      " conv_dw_6_bn (BatchNormaliz  (None, None, None, 256)  1024      \n",
      " ation)                                                          \n",
      "                                                                 \n",
      " conv_dw_6_relu (ReLU)       (None, None, None, 256)   0         \n",
      "                                                                 \n",
      " conv_pw_6 (Conv2D)          (None, None, None, 512)   131072    \n",
      "                                                                 \n",
      " conv_pw_6_bn (BatchNormaliz  (None, None, None, 512)  2048      \n",
      " ation)                                                          \n",
      "                                                                 \n",
      " conv_pw_6_relu (ReLU)       (None, None, None, 512)   0         \n",
      "                                                                 \n",
      " conv_dw_7 (DepthwiseConv2D)  (None, None, None, 512)  4608      \n",
      "                                                                 \n",
      " conv_dw_7_bn (BatchNormaliz  (None, None, None, 512)  2048      \n",
      " ation)                                                          \n",
      "                                                                 \n",
      " conv_dw_7_relu (ReLU)       (None, None, None, 512)   0         \n",
      "                                                                 \n",
      " conv_pw_7 (Conv2D)          (None, None, None, 512)   262144    \n",
      "                                                                 \n",
      " conv_pw_7_bn (BatchNormaliz  (None, None, None, 512)  2048      \n",
      " ation)                                                          \n",
      "                                                                 \n",
      " conv_pw_7_relu (ReLU)       (None, None, None, 512)   0         \n",
      "                                                                 \n",
      " conv_dw_8 (DepthwiseConv2D)  (None, None, None, 512)  4608      \n",
      "                                                                 \n",
      " conv_dw_8_bn (BatchNormaliz  (None, None, None, 512)  2048      \n",
      " ation)                                                          \n",
      "                                                                 \n",
      " conv_dw_8_relu (ReLU)       (None, None, None, 512)   0         \n",
      "                                                                 \n",
      " conv_pw_8 (Conv2D)          (None, None, None, 512)   262144    \n"
     ]
    },
    {
     "name": "stdout",
     "output_type": "stream",
     "text": [
      "                                                                 \n",
      " conv_pw_8_bn (BatchNormaliz  (None, None, None, 512)  2048      \n",
      " ation)                                                          \n",
      "                                                                 \n",
      " conv_pw_8_relu (ReLU)       (None, None, None, 512)   0         \n",
      "                                                                 \n",
      " conv_dw_9 (DepthwiseConv2D)  (None, None, None, 512)  4608      \n",
      "                                                                 \n",
      " conv_dw_9_bn (BatchNormaliz  (None, None, None, 512)  2048      \n",
      " ation)                                                          \n",
      "                                                                 \n",
      " conv_dw_9_relu (ReLU)       (None, None, None, 512)   0         \n",
      "                                                                 \n",
      " conv_pw_9 (Conv2D)          (None, None, None, 512)   262144    \n",
      "                                                                 \n",
      " conv_pw_9_bn (BatchNormaliz  (None, None, None, 512)  2048      \n",
      " ation)                                                          \n",
      "                                                                 \n",
      " conv_pw_9_relu (ReLU)       (None, None, None, 512)   0         \n",
      "                                                                 \n",
      " conv_dw_10 (DepthwiseConv2D  (None, None, None, 512)  4608      \n",
      " )                                                               \n",
      "                                                                 \n",
      " conv_dw_10_bn (BatchNormali  (None, None, None, 512)  2048      \n",
      " zation)                                                         \n",
      "                                                                 \n",
      " conv_dw_10_relu (ReLU)      (None, None, None, 512)   0         \n",
      "                                                                 \n",
      " conv_pw_10 (Conv2D)         (None, None, None, 512)   262144    \n",
      "                                                                 \n",
      " conv_pw_10_bn (BatchNormali  (None, None, None, 512)  2048      \n",
      " zation)                                                         \n",
      "                                                                 \n",
      " conv_pw_10_relu (ReLU)      (None, None, None, 512)   0         \n",
      "                                                                 \n",
      " conv_dw_11 (DepthwiseConv2D  (None, None, None, 512)  4608      \n",
      " )                                                               \n",
      "                                                                 \n",
      " conv_dw_11_bn (BatchNormali  (None, None, None, 512)  2048      \n",
      " zation)                                                         \n",
      "                                                                 \n",
      " conv_dw_11_relu (ReLU)      (None, None, None, 512)   0         \n",
      "                                                                 \n",
      " conv_pw_11 (Conv2D)         (None, None, None, 512)   262144    \n",
      "                                                                 \n",
      " conv_pw_11_bn (BatchNormali  (None, None, None, 512)  2048      \n",
      " zation)                                                         \n",
      "                                                                 \n",
      " conv_pw_11_relu (ReLU)      (None, None, None, 512)   0         \n",
      "                                                                 \n",
      " conv_pad_12 (ZeroPadding2D)  (None, None, None, 512)  0         \n",
      "                                                                 \n",
      " conv_dw_12 (DepthwiseConv2D  (None, None, None, 512)  4608      \n",
      " )                                                               \n",
      "                                                                 \n",
      " conv_dw_12_bn (BatchNormali  (None, None, None, 512)  2048      \n",
      " zation)                                                         \n",
      "                                                                 \n",
      " conv_dw_12_relu (ReLU)      (None, None, None, 512)   0         \n",
      "                                                                 \n",
      " conv_pw_12 (Conv2D)         (None, None, None, 1024)  524288    \n",
      "                                                                 \n",
      " conv_pw_12_bn (BatchNormali  (None, None, None, 1024)  4096     \n",
      " zation)                                                         \n",
      "                                                                 \n",
      " conv_pw_12_relu (ReLU)      (None, None, None, 1024)  0         \n",
      "                                                                 \n",
      " conv_dw_13 (DepthwiseConv2D  (None, None, None, 1024)  9216     \n",
      " )                                                               \n",
      "                                                                 \n",
      " conv_dw_13_bn (BatchNormali  (None, None, None, 1024)  4096     \n",
      " zation)                                                         \n",
      "                                                                 \n",
      " conv_dw_13_relu (ReLU)      (None, None, None, 1024)  0         \n",
      "                                                                 \n",
      " conv_pw_13 (Conv2D)         (None, None, None, 1024)  1048576   \n",
      "                                                                 \n",
      " conv_pw_13_bn (BatchNormali  (None, None, None, 1024)  4096     \n",
      " zation)                                                         \n",
      "                                                                 \n",
      " conv_pw_13_relu (ReLU)      (None, None, None, 1024)  0         \n",
      "                                                                 \n",
      " global_average_pooling2d_2   (None, 1024)             0         \n",
      " (GlobalAveragePooling2D)                                        \n",
      "                                                                 \n",
      " dense_8 (Dense)             (None, 1024)              1049600   \n",
      "                                                                 \n",
      " dense_9 (Dense)             (None, 1024)              1049600   \n",
      "                                                                 \n",
      " dense_10 (Dense)            (None, 512)               524800    \n",
      "                                                                 \n",
      " dense_11 (Dense)            (None, 3)                 1539      \n",
      "                                                                 \n",
      "=================================================================\n",
      "Total params: 5,854,403\n",
      "Trainable params: 5,832,515\n",
      "Non-trainable params: 21,888\n",
      "_________________________________________________________________\n"
     ]
    }
   ],
   "source": [
    "model=keras.Model(inputs=base_model.input,outputs=preds)\n",
    "model.summary()"
   ]
  },
  {
   "cell_type": "code",
   "execution_count": 40,
   "id": "a4c0ec76",
   "metadata": {},
   "outputs": [],
   "source": [
    "# Assign Trainable layers and freeze layer -> ลองเปลี่ยน ช่วง layer ในการ trainable True/False 3 ค่า เพื่อดูความแตกต่างของผลลัพธ์ที่ได้\n",
    "for layer in model.layers[:20]:\n",
    "    layer.trainable=False\n",
    "for layer in model.layers[20:]:\n",
    "    layer.trainable=True"
   ]
  },
  {
   "cell_type": "code",
   "execution_count": 41,
   "id": "5ba3c9ff",
   "metadata": {},
   "outputs": [],
   "source": [
    "#Create DataGeneartor Object\n",
    "datagen=ImageDataGenerator( rescale=1./255,\n",
    "rotation_range=30, zoom_range=0.5,\n",
    "width_shift_range=0.2, height_shift_range=0.2,\n",
    "shear_range=0.15, horizontal_flip=True,\n",
    "fill_mode=\"nearest\")"
   ]
  },
  {
   "cell_type": "code",
   "execution_count": 42,
   "id": "a61f40fa",
   "metadata": {},
   "outputs": [
    {
     "name": "stdout",
     "output_type": "stream",
     "text": [
      "Found 97 images belonging to 3 classes.\n"
     ]
    }
   ],
   "source": [
    "# Create Train Image generator\n",
    "train_generator = datagen.flow_from_directory(\n",
    "    directory=\"./train/\",\n",
    "    target_size=(224, 224),\n",
    "    color_mode=\"rgb\",\n",
    "    batch_size=32,\n",
    "    class_mode=\"categorical\",\n",
    "    shuffle=True,\n",
    "    seed=42\n",
    ")"
   ]
  },
  {
   "cell_type": "code",
   "execution_count": 43,
   "id": "75a22d19",
   "metadata": {},
   "outputs": [
    {
     "name": "stdout",
     "output_type": "stream",
     "text": [
      "Found 69 images belonging to 3 classes.\n"
     ]
    }
   ],
   "source": [
    "# Create Validation Image generator\n",
    "val_generator=datagen.flow_from_directory(\"./validate/\", # this is where you specify the path to the main data folder\n",
    "target_size=(224,224), color_mode='rgb',\n",
    "batch_size=20,\n",
    "class_mode=\"categorical\", seed = 42,\n",
    "shuffle=True)"
   ]
  },
  {
   "cell_type": "code",
   "execution_count": 44,
   "id": "1d4ad496",
   "metadata": {},
   "outputs": [
    {
     "data": {
      "image/png": "[encoded data removed]",
      "text/plain": [
       "<Figure size 720x288 with 14 Axes>"
      ]
     },
     "metadata": {
      "needs_background": "light"
     },
     "output_type": "display_data"
    }
   ],
   "source": [
    "batch = train_generator.next()\n",
    "Img_train = (batch[0]*255)\n",
    "plt.figure(figsize=(10,4))\n",
    "for i in range(1,15):\n",
    "    plt.subplot(5,4,i)\n",
    "    plt.imshow(Img_train[i-1].astype(\"uint8\"))\n",
    "    plt.title('RGB')"
   ]
  },
  {
   "cell_type": "code",
   "execution_count": 45,
   "id": "3a023b89",
   "metadata": {},
   "outputs": [
    {
     "data": {
      "image/png": "[encoded data removed]",
      "text/plain": [
       "<Figure size 720x288 with 11 Axes>"
      ]
     },
     "metadata": {
      "needs_background": "light"
     },
     "output_type": "display_data"
    }
   ],
   "source": [
    "batch = val_generator.next()\n",
    "Img_train = (batch[0]*255)\n",
    "plt.figure(figsize=(10,4))\n",
    "for i in range(1,12):\n",
    "    plt.subplot(5,4,i)\n",
    "    plt.imshow(Img_train[i-1].astype(\"uint8\"))\n",
    "    plt.title('RGB')"
   ]
  },
  {
   "cell_type": "code",
   "execution_count": 46,
   "id": "93dca6ee",
   "metadata": {},
   "outputs": [],
   "source": [
    "#Create Optimizer\n",
    "model.compile(optimizer='Adam',loss='categorical_crossentropy',metrics=['accuracy'])"
   ]
  },
  {
   "cell_type": "code",
   "execution_count": 47,
   "id": "d2054465",
   "metadata": {},
   "outputs": [
    {
     "name": "stdout",
     "output_type": "stream",
     "text": [
      "step_size_train = 3 step_size_val = 3\n"
     ]
    }
   ],
   "source": [
    "# Define training Generator Parameter\n",
    "EP = 5 # Number of Epoches\n",
    "step_size_train=train_generator.n//train_generator.batch_size\n",
    "step_size_val = val_generator.n//val_generator.batch_size\n",
    "# check step_size_Train = step_size_val -> if not adjust batch_size to make it equal\n",
    "print(f\"step_size_train = {step_size_train} step_size_val = {step_size_val}\")"
   ]
  },
  {
   "cell_type": "code",
   "execution_count": 48,
   "id": "4296c6e3",
   "metadata": {},
   "outputs": [
    {
     "name": "stdout",
     "output_type": "stream",
     "text": [
      "Epoch 1/5\n"
     ]
    },
    {
     "name": "stderr",
     "output_type": "stream",
     "text": [
      "C:\\Users\\ryu\\AppData\\Local\\Temp\\ipykernel_13548\\2098572540.py:1: UserWarning: `Model.fit_generator` is deprecated and will be removed in a future version. Please use `Model.fit`, which supports generators.\n",
      "  history=model.fit_generator(generator=train_generator,\n"
     ]
    },
    {
     "name": "stdout",
     "output_type": "stream",
     "text": [
      "3/3 [==============================] - 4s 995ms/step - loss: 2.7071 - accuracy: 0.2615 - val_loss: 1.8465 - val_accuracy: 0.2833\n",
      "Epoch 2/5\n",
      "3/3 [==============================] - 2s 656ms/step - loss: 1.5473 - accuracy: 0.3538 - val_loss: 1.6239 - val_accuracy: 0.3167\n",
      "Epoch 3/5\n",
      "3/3 [==============================] - 2s 680ms/step - loss: 1.1253 - accuracy: 0.4615 - val_loss: 1.4423 - val_accuracy: 0.3333\n",
      "Epoch 4/5\n",
      "3/3 [==============================] - 2s 711ms/step - loss: 1.1484 - accuracy: 0.4271 - val_loss: 1.6323 - val_accuracy: 0.2833\n",
      "Epoch 5/5\n",
      "3/3 [==============================] - 2s 738ms/step - loss: 0.8180 - accuracy: 0.6354 - val_loss: 1.2915 - val_accuracy: 0.5333\n"
     ]
    }
   ],
   "source": [
    "history=model.fit_generator(generator=train_generator,\n",
    "    steps_per_epoch=step_size_train,\n",
    "    validation_data = val_generator,\n",
    "    validation_steps = step_size_val,\n",
    "    epochs=EP,\n",
    "    verbose = 1)"
   ]
  },
  {
   "cell_type": "code",
   "execution_count": 49,
   "id": "f407df6a",
   "metadata": {},
   "outputs": [
    {
     "data": {
      "text/plain": [
       "<matplotlib.legend.Legend at 0x1fc30c6f550>"
      ]
     },
     "execution_count": 49,
     "metadata": {},
     "output_type": "execute_result"
    },
    {
     "data": {
      "image/png": "[encoded data removed]",
      "text/plain": [
       "<Figure size 432x288 with 1 Axes>"
      ]
     },
     "metadata": {
      "needs_background": "light"
     },
     "output_type": "display_data"
    }
   ],
   "source": [
    "# Performance Visualization\n",
    "# View Accuracy (Training, Validation)\n",
    "plt.plot(history.history[\"accuracy\"], label=\"Train_acc\")\n",
    "plt.plot(history.history[\"val_accuracy\"], label=\"Validate_acc\")\n",
    "plt.title('Training Accuracy')\n",
    "plt.ylabel('Accuracy')\n",
    "plt.xlabel('epoch')\n",
    "plt.legend(['train_acc', 'validate_acc'], loc='upper left')"
   ]
  },
  {
   "cell_type": "code",
   "execution_count": 50,
   "id": "e51881df",
   "metadata": {},
   "outputs": [
    {
     "data": {
      "text/plain": [
       "<matplotlib.legend.Legend at 0x1fc30cc3fa0>"
      ]
     },
     "execution_count": 50,
     "metadata": {},
     "output_type": "execute_result"
    },
    {
     "data": {
      "image/png": "[encoded data removed]",
      "text/plain": [
       "<Figure size 432x288 with 1 Axes>"
      ]
     },
     "metadata": {
      "needs_background": "light"
     },
     "output_type": "display_data"
    }
   ],
   "source": [
    "# View Loss (Training, Validation)\n",
    "plt.plot(history.history['loss'], label=\"Train_loss\")\n",
    "plt.plot(history.history['val_loss'], label=\"Validate_loss\")\n",
    "plt.title('Training Accuracy')\n",
    "plt.ylabel('loss')\n",
    "plt.xlabel('epoch')\n",
    "plt.legend(['train_loss', 'validate_loss'], loc='upper left')"
   ]
  },
  {
   "cell_type": "code",
   "execution_count": 51,
   "id": "3299d25d",
   "metadata": {},
   "outputs": [
    {
     "name": "stdout",
     "output_type": "stream",
     "text": [
      "Found 15 images belonging to 3 classes.\n"
     ]
    }
   ],
   "source": [
    "# Initial test generator\n",
    "test_datagen= ImageDataGenerator(rescale=1./255)\n",
    "test_generator = test_datagen.flow_from_directory(\n",
    "\"./test/\",\n",
    "class_mode=\"categorical\",\n",
    "target_size=(224, 224), color_mode=\"rgb\",\n",
    "shuffle=False, seed=42,\n",
    "batch_size=5)"
   ]
  },
  {
   "cell_type": "code",
   "execution_count": 52,
   "id": "0d95dbb4",
   "metadata": {},
   "outputs": [
    {
     "data": {
      "text/plain": [
       "array([0, 0, 0, 0, 1, 1, 1, 1, 1, 1, 2, 2, 2, 2, 2])"
      ]
     },
     "execution_count": 52,
     "metadata": {},
     "output_type": "execute_result"
    }
   ],
   "source": [
    "#Get class id for y_real_class\n",
    "y_true = test_generator.classes\n",
    "y_true"
   ]
  },
  {
   "cell_type": "code",
   "execution_count": 53,
   "id": "eabc6fc5",
   "metadata": {},
   "outputs": [
    {
     "data": {
      "image/png": "[encoded data removed]",
      "text/plain": [
       "<Figure size 720x288 with 4 Axes>"
      ]
     },
     "metadata": {
      "needs_background": "light"
     },
     "output_type": "display_data"
    }
   ],
   "source": [
    "plt.figure(figsize=(10,4))\n",
    "for i in range(1,5):\n",
    "    batch = test_generator.next()\n",
    "    Img_train = (batch[0]*255)\n",
    "    plt.subplot(5,4,i)\n",
    "    plt.imshow(Img_train[0].astype(\"uint8\"))\n",
    "    plt.title('RGB')"
   ]
  },
  {
   "cell_type": "code",
   "execution_count": 60,
   "id": "8fb2f85e",
   "metadata": {},
   "outputs": [
    {
     "name": "stderr",
     "output_type": "stream",
     "text": [
      "C:\\Users\\ryu\\AppData\\Local\\Temp\\ipykernel_13548\\2625963933.py:4: UserWarning: `Model.predict_generator` is deprecated and will be removed in a future version. Please use `Model.predict`, which supports generators.\n",
      "  pred=model.predict_generator(test_generator)\n"
     ]
    }
   ],
   "source": [
    "#predict 1 image at a time for total predict images = len(y_true) # number of real class\n",
    "test_generator.reset()\n",
    "pred_prob = []\n",
    "pred=model.predict_generator(test_generator)\n",
    "for i in range(len(y_true)):\n",
    "    pred_prob.append(np.array(pred[i]))"
   ]
  },
  {
   "cell_type": "code",
   "execution_count": 61,
   "id": "1e32a5ea",
   "metadata": {},
   "outputs": [
    {
     "data": {
      "text/html": [
       "<div>\n",
       "<style scoped>\n",
       "    .dataframe tbody tr th:only-of-type {\n",
       "        vertical-align: middle;\n",
       "    }\n",
       "\n",
       "    .dataframe tbody tr th {\n",
       "        vertical-align: top;\n",
       "    }\n",
       "\n",
       "    .dataframe thead th {\n",
       "        text-align: right;\n",
       "    }\n",
       "</style>\n",
       "<table border=\"1\" class=\"dataframe\">\n",
       "  <thead>\n",
       "    <tr style=\"text-align: right;\">\n",
       "      <th></th>\n",
       "      <th>0</th>\n",
       "      <th>1</th>\n",
       "      <th>2</th>\n",
       "    </tr>\n",
       "  </thead>\n",
       "  <tbody>\n",
       "    <tr>\n",
       "      <th>0</th>\n",
       "      <td>0.659491</td>\n",
       "      <td>0.326643</td>\n",
       "      <td>0.013866</td>\n",
       "    </tr>\n",
       "    <tr>\n",
       "      <th>1</th>\n",
       "      <td>0.509602</td>\n",
       "      <td>0.487091</td>\n",
       "      <td>0.003307</td>\n",
       "    </tr>\n",
       "    <tr>\n",
       "      <th>2</th>\n",
       "      <td>0.529782</td>\n",
       "      <td>0.462254</td>\n",
       "      <td>0.007964</td>\n",
       "    </tr>\n",
       "    <tr>\n",
       "      <th>3</th>\n",
       "      <td>0.620963</td>\n",
       "      <td>0.360890</td>\n",
       "      <td>0.018148</td>\n",
       "    </tr>\n",
       "    <tr>\n",
       "      <th>4</th>\n",
       "      <td>0.614420</td>\n",
       "      <td>0.378776</td>\n",
       "      <td>0.006804</td>\n",
       "    </tr>\n",
       "    <tr>\n",
       "      <th>5</th>\n",
       "      <td>0.323939</td>\n",
       "      <td>0.670165</td>\n",
       "      <td>0.005896</td>\n",
       "    </tr>\n",
       "    <tr>\n",
       "      <th>6</th>\n",
       "      <td>0.475294</td>\n",
       "      <td>0.513425</td>\n",
       "      <td>0.011281</td>\n",
       "    </tr>\n",
       "    <tr>\n",
       "      <th>7</th>\n",
       "      <td>0.562901</td>\n",
       "      <td>0.423618</td>\n",
       "      <td>0.013481</td>\n",
       "    </tr>\n",
       "    <tr>\n",
       "      <th>8</th>\n",
       "      <td>0.352341</td>\n",
       "      <td>0.634024</td>\n",
       "      <td>0.013635</td>\n",
       "    </tr>\n",
       "    <tr>\n",
       "      <th>9</th>\n",
       "      <td>0.498798</td>\n",
       "      <td>0.488062</td>\n",
       "      <td>0.013140</td>\n",
       "    </tr>\n",
       "    <tr>\n",
       "      <th>10</th>\n",
       "      <td>0.616566</td>\n",
       "      <td>0.281502</td>\n",
       "      <td>0.101933</td>\n",
       "    </tr>\n",
       "    <tr>\n",
       "      <th>11</th>\n",
       "      <td>0.524330</td>\n",
       "      <td>0.424552</td>\n",
       "      <td>0.051119</td>\n",
       "    </tr>\n",
       "    <tr>\n",
       "      <th>12</th>\n",
       "      <td>0.493297</td>\n",
       "      <td>0.457429</td>\n",
       "      <td>0.049274</td>\n",
       "    </tr>\n",
       "    <tr>\n",
       "      <th>13</th>\n",
       "      <td>0.604539</td>\n",
       "      <td>0.385980</td>\n",
       "      <td>0.009481</td>\n",
       "    </tr>\n",
       "    <tr>\n",
       "      <th>14</th>\n",
       "      <td>0.536594</td>\n",
       "      <td>0.397374</td>\n",
       "      <td>0.066032</td>\n",
       "    </tr>\n",
       "  </tbody>\n",
       "</table>\n",
       "</div>"
      ],
      "text/plain": [
       "           0         1         2\n",
       "0   0.659491  0.326643  0.013866\n",
       "1   0.509602  0.487091  0.003307\n",
       "2   0.529782  0.462254  0.007964\n",
       "3   0.620963  0.360890  0.018148\n",
       "4   0.614420  0.378776  0.006804\n",
       "5   0.323939  0.670165  0.005896\n",
       "6   0.475294  0.513425  0.011281\n",
       "7   0.562901  0.423618  0.013481\n",
       "8   0.352341  0.634024  0.013635\n",
       "9   0.498798  0.488062  0.013140\n",
       "10  0.616566  0.281502  0.101933\n",
       "11  0.524330  0.424552  0.051119\n",
       "12  0.493297  0.457429  0.049274\n",
       "13  0.604539  0.385980  0.009481\n",
       "14  0.536594  0.397374  0.066032"
      ]
     },
     "execution_count": 61,
     "metadata": {},
     "output_type": "execute_result"
    }
   ],
   "source": [
    "#Get classID from max prob(pred_prob)\n",
    "df_pred = pd.DataFrame(pred_prob)\n",
    "df_pred"
   ]
  },
  {
   "cell_type": "code",
   "execution_count": 62,
   "id": "f0fdb4f2",
   "metadata": {},
   "outputs": [
    {
     "data": {
      "text/plain": [
       "0     0\n",
       "1     0\n",
       "2     0\n",
       "3     0\n",
       "4     0\n",
       "5     1\n",
       "6     1\n",
       "7     0\n",
       "8     1\n",
       "9     0\n",
       "10    0\n",
       "11    0\n",
       "12    0\n",
       "13    0\n",
       "14    0\n",
       "dtype: int64"
      ]
     },
     "execution_count": 62,
     "metadata": {},
     "output_type": "execute_result"
    }
   ],
   "source": [
    "df_class = df_pred.idxmax(axis=1)\n",
    "df_class"
   ]
  },
  {
   "cell_type": "code",
   "execution_count": 63,
   "id": "bad3146c",
   "metadata": {},
   "outputs": [
    {
     "name": "stdout",
     "output_type": "stream",
     "text": [
      "[[4 0 0]\n",
      " [3 3 0]\n",
      " [5 0 0]]\n",
      "              precision    recall  f1-score   support\n",
      "\n",
      "           0       0.33      1.00      0.50         4\n",
      "           1       1.00      0.50      0.67         6\n",
      "           2       0.00      0.00      0.00         5\n",
      "\n",
      "    accuracy                           0.47        15\n",
      "   macro avg       0.44      0.50      0.39        15\n",
      "weighted avg       0.49      0.47      0.40        15\n",
      "\n"
     ]
    },
    {
     "name": "stderr",
     "output_type": "stream",
     "text": [
      "C:\\Users\\ryu\\AppData\\Local\\Programs\\Python\\Python310\\lib\\site-packages\\sklearn\\metrics\\_classification.py:1318: UndefinedMetricWarning: Precision and F-score are ill-defined and being set to 0.0 in labels with no predicted samples. Use `zero_division` parameter to control this behavior.\n",
      "  _warn_prf(average, modifier, msg_start, len(result))\n",
      "C:\\Users\\ryu\\AppData\\Local\\Programs\\Python\\Python310\\lib\\site-packages\\sklearn\\metrics\\_classification.py:1318: UndefinedMetricWarning: Precision and F-score are ill-defined and being set to 0.0 in labels with no predicted samples. Use `zero_division` parameter to control this behavior.\n",
      "  _warn_prf(average, modifier, msg_start, len(result))\n",
      "C:\\Users\\ryu\\AppData\\Local\\Programs\\Python\\Python310\\lib\\site-packages\\sklearn\\metrics\\_classification.py:1318: UndefinedMetricWarning: Precision and F-score are ill-defined and being set to 0.0 in labels with no predicted samples. Use `zero_division` parameter to control this behavior.\n",
      "  _warn_prf(average, modifier, msg_start, len(result))\n"
     ]
    }
   ],
   "source": [
    "print(confusion_matrix(y_true, df_class))\n",
    "\n",
    "print(classification_report(y_true, df_class))"
   ]
  },
  {
   "cell_type": "code",
   "execution_count": null,
   "id": "2b332a13",
   "metadata": {},
   "outputs": [],
   "source": [
    "#import splitfolders\n",
    "#splitfolders.ratio('Test', output=\"output\", seed=1337, ratio=(0.5,0.5)) "
   ]
  },
  {
   "cell_type": "code",
   "execution_count": null,
   "id": "0a2535eb",
   "metadata": {},
   "outputs": [],
   "source": [
    "#Load base model\n",
    "base_model=MobileNet(weights='imagenet',include_top=False)"
   ]
  },
  {
   "cell_type": "code",
   "execution_count": null,
   "id": "321e949b",
   "metadata": {},
   "outputs": [],
   "source": [
    "#Add new layers\n",
    "x=base_model.output\n",
    "x=GlobalAveragePooling2D()(x)\n",
    "x=Dense(1024,activation='relu')(x) #we add dense layers so that the model can learn more complex functions and classify for better results.\n",
    "x=Dense(1024,activation='relu')(x) #dense layer 2\n",
    "x=Dense(512,activation='relu')(x) #dense layer 3\n",
    "preds=Dense(131,activation='softmax')(x)"
   ]
  },
  {
   "cell_type": "code",
   "execution_count": null,
   "id": "2a6646f8",
   "metadata": {},
   "outputs": [],
   "source": [
    "model=keras.Model(inputs=base_model.input,outputs=preds)\n",
    "model.summary()"
   ]
  },
  {
   "cell_type": "code",
   "execution_count": null,
   "id": "10e2ded6",
   "metadata": {},
   "outputs": [],
   "source": [
    "# Assign Trainable layers and freeze layer -> ลองเปลี่ยน ช่วง layer ในการ trainable True/False 3 ค่า เพื่อดูความแตกต่างของผลลัพธ์ที่ได้\n",
    "for layer in model.layers[:20]:\n",
    "    layer.trainable=False\n",
    "for layer in model.layers[20:]:\n",
    "    layer.trainable=True"
   ]
  },
  {
   "cell_type": "code",
   "execution_count": null,
   "id": "b5b660ad",
   "metadata": {},
   "outputs": [],
   "source": [
    "#Create DataGeneartor Object\n",
    "datagen=ImageDataGenerator( rescale=1./255,\n",
    "rotation_range=30, zoom_range=0.5,\n",
    "width_shift_range=0.2, height_shift_range=0.2,\n",
    "shear_range=0.15, horizontal_flip=True,\n",
    "fill_mode=\"nearest\")"
   ]
  },
  {
   "cell_type": "code",
   "execution_count": null,
   "id": "fbe13d9f",
   "metadata": {},
   "outputs": [],
   "source": [
    "# Create Train Image generator\n",
    "train_generator = datagen.flow_from_directory(\n",
    "    directory=\"./output/train/\",\n",
    "    target_size=(100, 100),\n",
    "    color_mode=\"rgb\",\n",
    "    batch_size=131,\n",
    "    class_mode=\"categorical\",\n",
    "    shuffle=True,\n",
    "    seed=42\n",
    ")"
   ]
  },
  {
   "cell_type": "code",
   "execution_count": null,
   "id": "1500180d",
   "metadata": {},
   "outputs": [],
   "source": [
    "# Create Validation Image generator\n",
    "val_generator=datagen.flow_from_directory(\"./output/validate/\", # this is where you specify the path to the main data folder\n",
    "target_size=(100,100), color_mode='rgb',\n",
    "batch_size=22,\n",
    "class_mode=\"categorical\", seed = 42,\n",
    "shuffle=True)"
   ]
  },
  {
   "cell_type": "code",
   "execution_count": null,
   "id": "3477b181",
   "metadata": {},
   "outputs": [],
   "source": [
    "batch = train_generator.next()\n",
    "Img_train = (batch[0]*255)\n",
    "plt.figure(figsize=(10,4))\n",
    "for i in range(1,15):\n",
    "    plt.subplot(5,4,i)\n",
    "    plt.imshow(Img_train[i-1].astype(\"uint8\"))\n",
    "    plt.title('RGB')"
   ]
  },
  {
   "cell_type": "code",
   "execution_count": null,
   "id": "d498cc2a",
   "metadata": {},
   "outputs": [],
   "source": [
    "batch = val_generator.next()\n",
    "Img_train = (batch[0]*255)\n",
    "plt.figure(figsize=(10,4))\n",
    "for i in range(1,12):\n",
    "    plt.subplot(5,4,i)\n",
    "    plt.imshow(Img_train[i-1].astype(\"uint8\"))\n",
    "    plt.title('RGB')"
   ]
  },
  {
   "cell_type": "code",
   "execution_count": null,
   "id": "2b658947",
   "metadata": {},
   "outputs": [],
   "source": [
    "#Create Optimizer\n",
    "model.compile(optimizer='Adam',loss='categorical_crossentropy',metrics=['accuracy'])"
   ]
  },
  {
   "cell_type": "code",
   "execution_count": null,
   "id": "01f6eca7",
   "metadata": {},
   "outputs": [],
   "source": [
    "# Define training Generator Parameter\n",
    "EP = 5 # Number of Epoches\n",
    "step_size_train=train_generator.n//train_generator.batch_size\n",
    "step_size_val = val_generator.n//val_generator.batch_size\n",
    "# check step_size_Train = step_size_val -> if not adjust batch_size to make it equal\n",
    "print(f\"step_size_train = {step_size_train} step_size_val = {step_size_val}\")"
   ]
  },
  {
   "cell_type": "code",
   "execution_count": null,
   "id": "89242d6b",
   "metadata": {},
   "outputs": [],
   "source": [
    "history=model.fit_generator(generator=train_generator,\n",
    "    steps_per_epoch=step_size_train,\n",
    "    validation_data = val_generator,\n",
    "    validation_steps = step_size_val,\n",
    "    epochs=EP,\n",
    "    verbose = 1)"
   ]
  },
  {
   "cell_type": "code",
   "execution_count": null,
   "id": "3b5d49af",
   "metadata": {},
   "outputs": [],
   "source": [
    "# Performance Visualization\n",
    "# View Accuracy (Training, Validation)\n",
    "plt.plot(history.history[\"accuracy\"], label=\"Train_acc\")\n",
    "plt.plot(history.history[\"val_accuracy\"], label=\"Validate_acc\")\n",
    "plt.title('Training Accuracy')\n",
    "plt.ylabel('Accuracy')\n",
    "plt.xlabel('epoch')\n",
    "plt.legend(['train_acc', 'validate_acc'], loc='upper left')"
   ]
  },
  {
   "cell_type": "code",
   "execution_count": null,
   "id": "2b67c798",
   "metadata": {},
   "outputs": [],
   "source": [
    "# View Loss (Training, Validation)\n",
    "plt.plot(history.history['loss'], label=\"Train_loss\")\n",
    "plt.plot(history.history['val_loss'], label=\"Validate_loss\")\n",
    "plt.title('Training Accuracy')\n",
    "plt.ylabel('loss')\n",
    "plt.xlabel('epoch')\n",
    "plt.legend(['train_loss', 'validate_loss'], loc='upper left')"
   ]
  },
  {
   "cell_type": "code",
   "execution_count": null,
   "id": "d9fadca7",
   "metadata": {},
   "outputs": [],
   "source": [
    "# Initial test generator\n",
    "test_datagen= ImageDataGenerator(rescale=1./255)\n",
    "test_generator = test_datagen.flow_from_directory(\n",
    "\"./output/test/\",\n",
    "class_mode=\"categorical\",\n",
    "target_size=(100, 100), color_mode=\"rgb\",\n",
    "shuffle=False, seed=42,\n",
    "batch_size=5)"
   ]
  },
  {
   "cell_type": "code",
   "execution_count": null,
   "id": "d05d3d79",
   "metadata": {},
   "outputs": [],
   "source": [
    "#Get class id for y_real_class\n",
    "y_true = test_generator.classes\n",
    "y_true"
   ]
  },
  {
   "cell_type": "code",
   "execution_count": null,
   "id": "19a8df5d",
   "metadata": {},
   "outputs": [],
   "source": [
    "plt.figure(figsize=(10,4))\n",
    "for i in range(1,5):\n",
    "    batch = test_generator.next()\n",
    "    Img_train = (batch[0]*255)\n",
    "    plt.subplot(5,4,i)\n",
    "    plt.imshow(Img_train[0].astype(\"uint8\"))\n",
    "    plt.title('RGB')"
   ]
  },
  {
   "cell_type": "code",
   "execution_count": null,
   "id": "3bb71a17",
   "metadata": {},
   "outputs": [],
   "source": [
    "#predict 1 image at a time for total predict images = len(y_true) # number of real class\n",
    "test_generator.reset()\n",
    "pred_prob = []\n",
    "pred=model.predict_generator(test_generator)\n",
    "for i in range(len(y_true)):\n",
    "    pred_prob.append(np.array(pred[i]))"
   ]
  },
  {
   "cell_type": "code",
   "execution_count": null,
   "id": "ec994084",
   "metadata": {},
   "outputs": [],
   "source": [
    "#Get classID from max prob(pred_prob)\n",
    "df_pred = pd.DataFrame(pred_prob)\n",
    "df_pred"
   ]
  },
  {
   "cell_type": "code",
   "execution_count": null,
   "id": "7b534770",
   "metadata": {},
   "outputs": [],
   "source": [
    "df_class = df_pred.idxmax(axis=1)\n",
    "df_class"
   ]
  },
  {
   "cell_type": "code",
   "execution_count": null,
   "id": "ec333938",
   "metadata": {},
   "outputs": [],
   "source": [
    "print(confusion_matrix(y_true, df_class))\n",
    "\n",
    "print(classification_report(y_true, df_class))"
   ]
  }
 ],
 "metadata": {
  "kernelspec": {
   "display_name": "Python 3 (ipykernel)",
   "language": "python",
   "name": "python3"
  },
  "language_info": {
   "codemirror_mode": {
    "name": "ipython",
    "version": 3
   },
   "file_extension": ".py",
   "mimetype": "text/x-python",
   "name": "python",
   "nbconvert_exporter": "python",
   "pygments_lexer": "ipython3",
   "version": "3.10.2"
  }
 },
 "nbformat": 4,
 "nbformat_minor": 5
}
